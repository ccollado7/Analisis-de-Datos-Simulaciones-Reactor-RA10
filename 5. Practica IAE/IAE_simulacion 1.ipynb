{
 "cells": [
  {
   "cell_type": "markdown",
   "metadata": {},
   "source": [
    "# Niveles Tanques BR001A/B\n",
    "\n",
    "# Caudal IAE"
   ]
  },
  {
   "cell_type": "code",
   "execution_count": 2,
   "metadata": {},
   "outputs": [],
   "source": [
    "#Realizo la llamada a los paquetes a Utilizar\n",
    "\n",
    "import numpy as np\n",
    "import pandas as pd\n",
    "import matplotlib.pyplot as plt"
   ]
  },
  {
   "cell_type": "markdown",
   "metadata": {},
   "source": [
    "## 1. Lectura del Archivo"
   ]
  },
  {
   "cell_type": "code",
   "execution_count": 3,
   "metadata": {},
   "outputs": [],
   "source": [
    "datos = pd.read_csv(r\"C:\\Users\\User0044\\Practica IAE\\IAE_simulacion 1.csv\",low_memory=False) #Realizo la lectura de CSV y lo asocio al DataFrame \"datos\""
   ]
  },
  {
   "cell_type": "markdown",
   "metadata": {},
   "source": [
    "## 2. Visualizacion General del DataFrame "
   ]
  },
  {
   "cell_type": "code",
   "execution_count": 4,
   "metadata": {},
   "outputs": [
    {
     "data": {
      "text/html": [
       "<div>\n",
       "<style scoped>\n",
       "    .dataframe tbody tr th:only-of-type {\n",
       "        vertical-align: middle;\n",
       "    }\n",
       "\n",
       "    .dataframe tbody tr th {\n",
       "        vertical-align: top;\n",
       "    }\n",
       "\n",
       "    .dataframe thead th {\n",
       "        text-align: right;\n",
       "    }\n",
       "</style>\n",
       "<table border=\"1\" class=\"dataframe\">\n",
       "  <thead>\n",
       "    <tr style=\"text-align: right;\">\n",
       "      <th></th>\n",
       "      <th>SimTime</th>\n",
       "      <th>G_1200_EXTRA_Lev_BR001A</th>\n",
       "      <th>G_1200_EXTRA_Lev_BR001B</th>\n",
       "      <th>G_1200_EXTRA_Q_IAE</th>\n",
       "      <th>Log</th>\n",
       "    </tr>\n",
       "  </thead>\n",
       "  <tbody>\n",
       "    <tr>\n",
       "      <th>0</th>\n",
       "      <td>-7500</td>\n",
       "      <td>2.42</td>\n",
       "      <td>2.42</td>\n",
       "      <td>0.0</td>\n",
       "      <td>NaN</td>\n",
       "    </tr>\n",
       "    <tr>\n",
       "      <th>1</th>\n",
       "      <td>0</td>\n",
       "      <td>2.42</td>\n",
       "      <td>2.42</td>\n",
       "      <td>0.0</td>\n",
       "      <td>All modules prepared\\nRunning at: 100x of Real...</td>\n",
       "    </tr>\n",
       "    <tr>\n",
       "      <th>2</th>\n",
       "      <td>100</td>\n",
       "      <td>2.42</td>\n",
       "      <td>2.42</td>\n",
       "      <td>0.0</td>\n",
       "      <td>Run simulation OK.</td>\n",
       "    </tr>\n",
       "    <tr>\n",
       "      <th>3</th>\n",
       "      <td>200</td>\n",
       "      <td>2.42</td>\n",
       "      <td>2.42</td>\n",
       "      <td>0.0</td>\n",
       "      <td>NaN</td>\n",
       "    </tr>\n",
       "    <tr>\n",
       "      <th>4</th>\n",
       "      <td>300</td>\n",
       "      <td>2.42</td>\n",
       "      <td>2.42</td>\n",
       "      <td>0.0</td>\n",
       "      <td>NaN</td>\n",
       "    </tr>\n",
       "    <tr>\n",
       "      <th>5</th>\n",
       "      <td>400</td>\n",
       "      <td>2.42</td>\n",
       "      <td>2.42</td>\n",
       "      <td>0.0</td>\n",
       "      <td>NaN</td>\n",
       "    </tr>\n",
       "    <tr>\n",
       "      <th>6</th>\n",
       "      <td>500</td>\n",
       "      <td>2.42</td>\n",
       "      <td>2.42</td>\n",
       "      <td>0.0</td>\n",
       "      <td>NaN</td>\n",
       "    </tr>\n",
       "    <tr>\n",
       "      <th>7</th>\n",
       "      <td>600</td>\n",
       "      <td>2.42</td>\n",
       "      <td>2.42</td>\n",
       "      <td>0.0</td>\n",
       "      <td>NaN</td>\n",
       "    </tr>\n",
       "    <tr>\n",
       "      <th>8</th>\n",
       "      <td>700</td>\n",
       "      <td>2.42</td>\n",
       "      <td>2.42</td>\n",
       "      <td>0.0</td>\n",
       "      <td>NaN</td>\n",
       "    </tr>\n",
       "    <tr>\n",
       "      <th>9</th>\n",
       "      <td>800</td>\n",
       "      <td>2.42</td>\n",
       "      <td>2.42</td>\n",
       "      <td>0.0</td>\n",
       "      <td>NaN</td>\n",
       "    </tr>\n",
       "    <tr>\n",
       "      <th>10</th>\n",
       "      <td>900</td>\n",
       "      <td>2.42</td>\n",
       "      <td>2.42</td>\n",
       "      <td>0.0</td>\n",
       "      <td>NaN</td>\n",
       "    </tr>\n",
       "    <tr>\n",
       "      <th>11</th>\n",
       "      <td>1000</td>\n",
       "      <td>2.42</td>\n",
       "      <td>2.42</td>\n",
       "      <td>0.0</td>\n",
       "      <td>&lt;?xml version='1.0'?&gt;\\n&lt;Log Msg='Task (Activat...</td>\n",
       "    </tr>\n",
       "    <tr>\n",
       "      <th>12</th>\n",
       "      <td>1100</td>\n",
       "      <td>2.42</td>\n",
       "      <td>2.42</td>\n",
       "      <td>0.0</td>\n",
       "      <td>NaN</td>\n",
       "    </tr>\n",
       "    <tr>\n",
       "      <th>13</th>\n",
       "      <td>1200</td>\n",
       "      <td>2.42</td>\n",
       "      <td>2.42</td>\n",
       "      <td>0.0</td>\n",
       "      <td>NaN</td>\n",
       "    </tr>\n",
       "    <tr>\n",
       "      <th>14</th>\n",
       "      <td>1300</td>\n",
       "      <td>2.42</td>\n",
       "      <td>2.42</td>\n",
       "      <td>0.0</td>\n",
       "      <td>NaN</td>\n",
       "    </tr>\n",
       "    <tr>\n",
       "      <th>15</th>\n",
       "      <td>1400</td>\n",
       "      <td>2.42</td>\n",
       "      <td>2.42</td>\n",
       "      <td>0.0</td>\n",
       "      <td>NaN</td>\n",
       "    </tr>\n",
       "    <tr>\n",
       "      <th>16</th>\n",
       "      <td>1500</td>\n",
       "      <td>2.42</td>\n",
       "      <td>2.42</td>\n",
       "      <td>0.0</td>\n",
       "      <td>NaN</td>\n",
       "    </tr>\n",
       "    <tr>\n",
       "      <th>17</th>\n",
       "      <td>1600</td>\n",
       "      <td>2.42</td>\n",
       "      <td>2.42</td>\n",
       "      <td>0.0</td>\n",
       "      <td>NaN</td>\n",
       "    </tr>\n",
       "    <tr>\n",
       "      <th>18</th>\n",
       "      <td>1700</td>\n",
       "      <td>2.42</td>\n",
       "      <td>2.42</td>\n",
       "      <td>0.0</td>\n",
       "      <td>NaN</td>\n",
       "    </tr>\n",
       "    <tr>\n",
       "      <th>19</th>\n",
       "      <td>1800</td>\n",
       "      <td>2.42</td>\n",
       "      <td>2.42</td>\n",
       "      <td>0.0</td>\n",
       "      <td>NaN</td>\n",
       "    </tr>\n",
       "  </tbody>\n",
       "</table>\n",
       "</div>"
      ],
      "text/plain": [
       "    SimTime  G_1200_EXTRA_Lev_BR001A  G_1200_EXTRA_Lev_BR001B  \\\n",
       "0     -7500                     2.42                     2.42   \n",
       "1         0                     2.42                     2.42   \n",
       "2       100                     2.42                     2.42   \n",
       "3       200                     2.42                     2.42   \n",
       "4       300                     2.42                     2.42   \n",
       "5       400                     2.42                     2.42   \n",
       "6       500                     2.42                     2.42   \n",
       "7       600                     2.42                     2.42   \n",
       "8       700                     2.42                     2.42   \n",
       "9       800                     2.42                     2.42   \n",
       "10      900                     2.42                     2.42   \n",
       "11     1000                     2.42                     2.42   \n",
       "12     1100                     2.42                     2.42   \n",
       "13     1200                     2.42                     2.42   \n",
       "14     1300                     2.42                     2.42   \n",
       "15     1400                     2.42                     2.42   \n",
       "16     1500                     2.42                     2.42   \n",
       "17     1600                     2.42                     2.42   \n",
       "18     1700                     2.42                     2.42   \n",
       "19     1800                     2.42                     2.42   \n",
       "\n",
       "    G_1200_EXTRA_Q_IAE                                                Log  \n",
       "0                  0.0                                                NaN  \n",
       "1                  0.0  All modules prepared\\nRunning at: 100x of Real...  \n",
       "2                  0.0                                 Run simulation OK.  \n",
       "3                  0.0                                                NaN  \n",
       "4                  0.0                                                NaN  \n",
       "5                  0.0                                                NaN  \n",
       "6                  0.0                                                NaN  \n",
       "7                  0.0                                                NaN  \n",
       "8                  0.0                                                NaN  \n",
       "9                  0.0                                                NaN  \n",
       "10                 0.0                                                NaN  \n",
       "11                 0.0  <?xml version='1.0'?>\\n<Log Msg='Task (Activat...  \n",
       "12                 0.0                                                NaN  \n",
       "13                 0.0                                                NaN  \n",
       "14                 0.0                                                NaN  \n",
       "15                 0.0                                                NaN  \n",
       "16                 0.0                                                NaN  \n",
       "17                 0.0                                                NaN  \n",
       "18                 0.0                                                NaN  \n",
       "19                 0.0                                                NaN  "
      ]
     },
     "execution_count": 4,
     "metadata": {},
     "output_type": "execute_result"
    }
   ],
   "source": [
    "datos.head(20) #Primero 20 filas del DataFrame"
   ]
  },
  {
   "cell_type": "code",
   "execution_count": 5,
   "metadata": {},
   "outputs": [
    {
     "data": {
      "text/html": [
       "<div>\n",
       "<style scoped>\n",
       "    .dataframe tbody tr th:only-of-type {\n",
       "        vertical-align: middle;\n",
       "    }\n",
       "\n",
       "    .dataframe tbody tr th {\n",
       "        vertical-align: top;\n",
       "    }\n",
       "\n",
       "    .dataframe thead th {\n",
       "        text-align: right;\n",
       "    }\n",
       "</style>\n",
       "<table border=\"1\" class=\"dataframe\">\n",
       "  <thead>\n",
       "    <tr style=\"text-align: right;\">\n",
       "      <th></th>\n",
       "      <th>SimTime</th>\n",
       "      <th>G_1200_EXTRA_Lev_BR001A</th>\n",
       "      <th>G_1200_EXTRA_Lev_BR001B</th>\n",
       "      <th>G_1200_EXTRA_Q_IAE</th>\n",
       "      <th>Log</th>\n",
       "    </tr>\n",
       "  </thead>\n",
       "  <tbody>\n",
       "    <tr>\n",
       "      <th>1367512</th>\n",
       "      <td>136751100</td>\n",
       "      <td>0.009999</td>\n",
       "      <td>0.009999</td>\n",
       "      <td>0.0</td>\n",
       "      <td>NaN</td>\n",
       "    </tr>\n",
       "    <tr>\n",
       "      <th>1367513</th>\n",
       "      <td>136751200</td>\n",
       "      <td>0.009999</td>\n",
       "      <td>0.009999</td>\n",
       "      <td>0.0</td>\n",
       "      <td>NaN</td>\n",
       "    </tr>\n",
       "    <tr>\n",
       "      <th>1367514</th>\n",
       "      <td>136751300</td>\n",
       "      <td>0.009999</td>\n",
       "      <td>0.009999</td>\n",
       "      <td>0.0</td>\n",
       "      <td>NaN</td>\n",
       "    </tr>\n",
       "    <tr>\n",
       "      <th>1367515</th>\n",
       "      <td>136751400</td>\n",
       "      <td>0.009999</td>\n",
       "      <td>0.009999</td>\n",
       "      <td>0.0</td>\n",
       "      <td>NaN</td>\n",
       "    </tr>\n",
       "    <tr>\n",
       "      <th>1367516</th>\n",
       "      <td>136751500</td>\n",
       "      <td>0.009999</td>\n",
       "      <td>0.009999</td>\n",
       "      <td>0.0</td>\n",
       "      <td>NaN</td>\n",
       "    </tr>\n",
       "    <tr>\n",
       "      <th>1367517</th>\n",
       "      <td>136751600</td>\n",
       "      <td>0.009999</td>\n",
       "      <td>0.009999</td>\n",
       "      <td>0.0</td>\n",
       "      <td>NaN</td>\n",
       "    </tr>\n",
       "    <tr>\n",
       "      <th>1367518</th>\n",
       "      <td>136751700</td>\n",
       "      <td>0.009999</td>\n",
       "      <td>0.009999</td>\n",
       "      <td>0.0</td>\n",
       "      <td>NaN</td>\n",
       "    </tr>\n",
       "    <tr>\n",
       "      <th>1367519</th>\n",
       "      <td>136751800</td>\n",
       "      <td>0.009999</td>\n",
       "      <td>0.009999</td>\n",
       "      <td>0.0</td>\n",
       "      <td>NaN</td>\n",
       "    </tr>\n",
       "    <tr>\n",
       "      <th>1367520</th>\n",
       "      <td>136751900</td>\n",
       "      <td>0.009999</td>\n",
       "      <td>0.009999</td>\n",
       "      <td>0.0</td>\n",
       "      <td>NaN</td>\n",
       "    </tr>\n",
       "    <tr>\n",
       "      <th>1367521</th>\n",
       "      <td>136752000</td>\n",
       "      <td>0.009999</td>\n",
       "      <td>0.009999</td>\n",
       "      <td>0.0</td>\n",
       "      <td>NaN</td>\n",
       "    </tr>\n",
       "    <tr>\n",
       "      <th>1367522</th>\n",
       "      <td>136752100</td>\n",
       "      <td>0.009999</td>\n",
       "      <td>0.009999</td>\n",
       "      <td>0.0</td>\n",
       "      <td>NaN</td>\n",
       "    </tr>\n",
       "    <tr>\n",
       "      <th>1367523</th>\n",
       "      <td>136752200</td>\n",
       "      <td>0.009999</td>\n",
       "      <td>0.009999</td>\n",
       "      <td>0.0</td>\n",
       "      <td>NaN</td>\n",
       "    </tr>\n",
       "    <tr>\n",
       "      <th>1367524</th>\n",
       "      <td>136752300</td>\n",
       "      <td>0.009999</td>\n",
       "      <td>0.009999</td>\n",
       "      <td>0.0</td>\n",
       "      <td>NaN</td>\n",
       "    </tr>\n",
       "    <tr>\n",
       "      <th>1367525</th>\n",
       "      <td>136752400</td>\n",
       "      <td>0.009999</td>\n",
       "      <td>0.009999</td>\n",
       "      <td>0.0</td>\n",
       "      <td>NaN</td>\n",
       "    </tr>\n",
       "    <tr>\n",
       "      <th>1367526</th>\n",
       "      <td>136752500</td>\n",
       "      <td>0.009999</td>\n",
       "      <td>0.009999</td>\n",
       "      <td>0.0</td>\n",
       "      <td>NaN</td>\n",
       "    </tr>\n",
       "    <tr>\n",
       "      <th>1367527</th>\n",
       "      <td>136752600</td>\n",
       "      <td>0.009999</td>\n",
       "      <td>0.009999</td>\n",
       "      <td>0.0</td>\n",
       "      <td>NaN</td>\n",
       "    </tr>\n",
       "    <tr>\n",
       "      <th>1367528</th>\n",
       "      <td>136752700</td>\n",
       "      <td>0.009999</td>\n",
       "      <td>0.009999</td>\n",
       "      <td>0.0</td>\n",
       "      <td>NaN</td>\n",
       "    </tr>\n",
       "    <tr>\n",
       "      <th>1367529</th>\n",
       "      <td>136752800</td>\n",
       "      <td>0.009999</td>\n",
       "      <td>0.009999</td>\n",
       "      <td>0.0</td>\n",
       "      <td>NaN</td>\n",
       "    </tr>\n",
       "    <tr>\n",
       "      <th>1367530</th>\n",
       "      <td>136752900</td>\n",
       "      <td>0.009999</td>\n",
       "      <td>0.009999</td>\n",
       "      <td>0.0</td>\n",
       "      <td>NaN</td>\n",
       "    </tr>\n",
       "    <tr>\n",
       "      <th>1367531</th>\n",
       "      <td>136753000</td>\n",
       "      <td>0.009999</td>\n",
       "      <td>0.009999</td>\n",
       "      <td>0.0</td>\n",
       "      <td>Pause simulation OK.\\nBacktrack request sent t...</td>\n",
       "    </tr>\n",
       "  </tbody>\n",
       "</table>\n",
       "</div>"
      ],
      "text/plain": [
       "           SimTime  G_1200_EXTRA_Lev_BR001A  G_1200_EXTRA_Lev_BR001B  \\\n",
       "1367512  136751100                 0.009999                 0.009999   \n",
       "1367513  136751200                 0.009999                 0.009999   \n",
       "1367514  136751300                 0.009999                 0.009999   \n",
       "1367515  136751400                 0.009999                 0.009999   \n",
       "1367516  136751500                 0.009999                 0.009999   \n",
       "1367517  136751600                 0.009999                 0.009999   \n",
       "1367518  136751700                 0.009999                 0.009999   \n",
       "1367519  136751800                 0.009999                 0.009999   \n",
       "1367520  136751900                 0.009999                 0.009999   \n",
       "1367521  136752000                 0.009999                 0.009999   \n",
       "1367522  136752100                 0.009999                 0.009999   \n",
       "1367523  136752200                 0.009999                 0.009999   \n",
       "1367524  136752300                 0.009999                 0.009999   \n",
       "1367525  136752400                 0.009999                 0.009999   \n",
       "1367526  136752500                 0.009999                 0.009999   \n",
       "1367527  136752600                 0.009999                 0.009999   \n",
       "1367528  136752700                 0.009999                 0.009999   \n",
       "1367529  136752800                 0.009999                 0.009999   \n",
       "1367530  136752900                 0.009999                 0.009999   \n",
       "1367531  136753000                 0.009999                 0.009999   \n",
       "\n",
       "         G_1200_EXTRA_Q_IAE                                                Log  \n",
       "1367512                 0.0                                                NaN  \n",
       "1367513                 0.0                                                NaN  \n",
       "1367514                 0.0                                                NaN  \n",
       "1367515                 0.0                                                NaN  \n",
       "1367516                 0.0                                                NaN  \n",
       "1367517                 0.0                                                NaN  \n",
       "1367518                 0.0                                                NaN  \n",
       "1367519                 0.0                                                NaN  \n",
       "1367520                 0.0                                                NaN  \n",
       "1367521                 0.0                                                NaN  \n",
       "1367522                 0.0                                                NaN  \n",
       "1367523                 0.0                                                NaN  \n",
       "1367524                 0.0                                                NaN  \n",
       "1367525                 0.0                                                NaN  \n",
       "1367526                 0.0                                                NaN  \n",
       "1367527                 0.0                                                NaN  \n",
       "1367528                 0.0                                                NaN  \n",
       "1367529                 0.0                                                NaN  \n",
       "1367530                 0.0                                                NaN  \n",
       "1367531                 0.0  Pause simulation OK.\\nBacktrack request sent t...  "
      ]
     },
     "execution_count": 5,
     "metadata": {},
     "output_type": "execute_result"
    }
   ],
   "source": [
    "datos.tail(20) #Ultimas 5 filas del DataFrame"
   ]
  },
  {
   "cell_type": "code",
   "execution_count": 6,
   "metadata": {},
   "outputs": [
    {
     "name": "stdout",
     "output_type": "stream",
     "text": [
      "<class 'pandas.core.frame.DataFrame'>\n",
      "RangeIndex: 1367532 entries, 0 to 1367531\n",
      "Data columns (total 5 columns):\n",
      "SimTime                    1367532 non-null int64\n",
      "G_1200_EXTRA_Lev_BR001A    1367532 non-null float64\n",
      "G_1200_EXTRA_Lev_BR001B    1367532 non-null float64\n",
      "G_1200_EXTRA_Q_IAE         1367532 non-null float64\n",
      "Log                        930 non-null object\n",
      "dtypes: float64(3), int64(1), object(1)\n",
      "memory usage: 52.2+ MB\n"
     ]
    }
   ],
   "source": [
    "datos.info() #Reralizo una Visualizacion general de las caracteristicas del DataFrame"
   ]
  },
  {
   "cell_type": "code",
   "execution_count": 7,
   "metadata": {},
   "outputs": [
    {
     "data": {
      "text/plain": [
       "Index(['SimTime', 'G_1200_EXTRA_Lev_BR001A', 'G_1200_EXTRA_Lev_BR001B',\n",
       "       'G_1200_EXTRA_Q_IAE', 'Log'],\n",
       "      dtype='object')"
      ]
     },
     "execution_count": 7,
     "metadata": {},
     "output_type": "execute_result"
    }
   ],
   "source": [
    "datos.columns #Visualizo las columnas del DataFrame"
   ]
  },
  {
   "cell_type": "code",
   "execution_count": 8,
   "metadata": {},
   "outputs": [
    {
     "data": {
      "text/plain": [
       "SimTime                      int64\n",
       "G_1200_EXTRA_Lev_BR001A    float64\n",
       "G_1200_EXTRA_Lev_BR001B    float64\n",
       "G_1200_EXTRA_Q_IAE         float64\n",
       "Log                         object\n",
       "dtype: object"
      ]
     },
     "execution_count": 8,
     "metadata": {},
     "output_type": "execute_result"
    }
   ],
   "source": [
    "datos.dtypes #Tipos de datos de cada columna"
   ]
  },
  {
   "cell_type": "markdown",
   "metadata": {},
   "source": [
    "## 3. Analisis de valores Nulos y Anormales"
   ]
  },
  {
   "cell_type": "code",
   "execution_count": 9,
   "metadata": {},
   "outputs": [
    {
     "data": {
      "text/plain": [
       "SimTime                          0\n",
       "G_1200_EXTRA_Lev_BR001A          0\n",
       "G_1200_EXTRA_Lev_BR001B          0\n",
       "G_1200_EXTRA_Q_IAE               0\n",
       "Log                        1366602\n",
       "dtype: int64"
      ]
     },
     "execution_count": 9,
     "metadata": {},
     "output_type": "execute_result"
    }
   ],
   "source": [
    "datos.isnull().sum() #Cuento la cantidad de nulos que tiene cada columna"
   ]
  },
  {
   "cell_type": "markdown",
   "metadata": {},
   "source": [
    "Segun se observa la columna Log tiene una cantidad muy grande de nulos, los cuales seguramente corresponden a los datos de inicio/fin de simulacion y correspondiente a OOS (out of scope). Por este motivo procedo a borrar esta columna por completo:"
   ]
  },
  {
   "cell_type": "code",
   "execution_count": 10,
   "metadata": {},
   "outputs": [],
   "source": [
    "datos_new = datos.drop(\"Log\",axis=1)"
   ]
  },
  {
   "cell_type": "code",
   "execution_count": 11,
   "metadata": {},
   "outputs": [
    {
     "name": "stdout",
     "output_type": "stream",
     "text": [
      "<class 'pandas.core.frame.DataFrame'>\n",
      "RangeIndex: 1367532 entries, 0 to 1367531\n",
      "Data columns (total 4 columns):\n",
      "SimTime                    1367532 non-null int64\n",
      "G_1200_EXTRA_Lev_BR001A    1367532 non-null float64\n",
      "G_1200_EXTRA_Lev_BR001B    1367532 non-null float64\n",
      "G_1200_EXTRA_Q_IAE         1367532 non-null float64\n",
      "dtypes: float64(3), int64(1)\n",
      "memory usage: 41.7 MB\n"
     ]
    }
   ],
   "source": [
    "datos_new.info() #Verifico que la columna \"Log\" se borro"
   ]
  },
  {
   "cell_type": "code",
   "execution_count": 12,
   "metadata": {},
   "outputs": [
    {
     "data": {
      "text/html": [
       "<div>\n",
       "<style scoped>\n",
       "    .dataframe tbody tr th:only-of-type {\n",
       "        vertical-align: middle;\n",
       "    }\n",
       "\n",
       "    .dataframe tbody tr th {\n",
       "        vertical-align: top;\n",
       "    }\n",
       "\n",
       "    .dataframe thead th {\n",
       "        text-align: right;\n",
       "    }\n",
       "</style>\n",
       "<table border=\"1\" class=\"dataframe\">\n",
       "  <thead>\n",
       "    <tr style=\"text-align: right;\">\n",
       "      <th></th>\n",
       "      <th>SimTime</th>\n",
       "      <th>G_1200_EXTRA_Lev_BR001A</th>\n",
       "      <th>G_1200_EXTRA_Lev_BR001B</th>\n",
       "      <th>G_1200_EXTRA_Q_IAE</th>\n",
       "    </tr>\n",
       "  </thead>\n",
       "  <tbody>\n",
       "    <tr>\n",
       "      <th>0</th>\n",
       "      <td>-7500</td>\n",
       "      <td>2.42</td>\n",
       "      <td>2.42</td>\n",
       "      <td>0.0</td>\n",
       "    </tr>\n",
       "    <tr>\n",
       "      <th>1</th>\n",
       "      <td>0</td>\n",
       "      <td>2.42</td>\n",
       "      <td>2.42</td>\n",
       "      <td>0.0</td>\n",
       "    </tr>\n",
       "    <tr>\n",
       "      <th>2</th>\n",
       "      <td>100</td>\n",
       "      <td>2.42</td>\n",
       "      <td>2.42</td>\n",
       "      <td>0.0</td>\n",
       "    </tr>\n",
       "    <tr>\n",
       "      <th>3</th>\n",
       "      <td>200</td>\n",
       "      <td>2.42</td>\n",
       "      <td>2.42</td>\n",
       "      <td>0.0</td>\n",
       "    </tr>\n",
       "    <tr>\n",
       "      <th>4</th>\n",
       "      <td>300</td>\n",
       "      <td>2.42</td>\n",
       "      <td>2.42</td>\n",
       "      <td>0.0</td>\n",
       "    </tr>\n",
       "  </tbody>\n",
       "</table>\n",
       "</div>"
      ],
      "text/plain": [
       "   SimTime  G_1200_EXTRA_Lev_BR001A  G_1200_EXTRA_Lev_BR001B  \\\n",
       "0    -7500                     2.42                     2.42   \n",
       "1        0                     2.42                     2.42   \n",
       "2      100                     2.42                     2.42   \n",
       "3      200                     2.42                     2.42   \n",
       "4      300                     2.42                     2.42   \n",
       "\n",
       "   G_1200_EXTRA_Q_IAE  \n",
       "0                 0.0  \n",
       "1                 0.0  \n",
       "2                 0.0  \n",
       "3                 0.0  \n",
       "4                 0.0  "
      ]
     },
     "execution_count": 12,
     "metadata": {},
     "output_type": "execute_result"
    }
   ],
   "source": [
    "datos_new.head()#Primero 5 filas del DataFrame"
   ]
  },
  {
   "cell_type": "code",
   "execution_count": 13,
   "metadata": {},
   "outputs": [
    {
     "data": {
      "text/html": [
       "<div>\n",
       "<style scoped>\n",
       "    .dataframe tbody tr th:only-of-type {\n",
       "        vertical-align: middle;\n",
       "    }\n",
       "\n",
       "    .dataframe tbody tr th {\n",
       "        vertical-align: top;\n",
       "    }\n",
       "\n",
       "    .dataframe thead th {\n",
       "        text-align: right;\n",
       "    }\n",
       "</style>\n",
       "<table border=\"1\" class=\"dataframe\">\n",
       "  <thead>\n",
       "    <tr style=\"text-align: right;\">\n",
       "      <th></th>\n",
       "      <th>SimTime</th>\n",
       "      <th>G_1200_EXTRA_Lev_BR001A</th>\n",
       "      <th>G_1200_EXTRA_Lev_BR001B</th>\n",
       "      <th>G_1200_EXTRA_Q_IAE</th>\n",
       "    </tr>\n",
       "  </thead>\n",
       "  <tbody>\n",
       "    <tr>\n",
       "      <th>1367527</th>\n",
       "      <td>136752600</td>\n",
       "      <td>0.009999</td>\n",
       "      <td>0.009999</td>\n",
       "      <td>0.0</td>\n",
       "    </tr>\n",
       "    <tr>\n",
       "      <th>1367528</th>\n",
       "      <td>136752700</td>\n",
       "      <td>0.009999</td>\n",
       "      <td>0.009999</td>\n",
       "      <td>0.0</td>\n",
       "    </tr>\n",
       "    <tr>\n",
       "      <th>1367529</th>\n",
       "      <td>136752800</td>\n",
       "      <td>0.009999</td>\n",
       "      <td>0.009999</td>\n",
       "      <td>0.0</td>\n",
       "    </tr>\n",
       "    <tr>\n",
       "      <th>1367530</th>\n",
       "      <td>136752900</td>\n",
       "      <td>0.009999</td>\n",
       "      <td>0.009999</td>\n",
       "      <td>0.0</td>\n",
       "    </tr>\n",
       "    <tr>\n",
       "      <th>1367531</th>\n",
       "      <td>136753000</td>\n",
       "      <td>0.009999</td>\n",
       "      <td>0.009999</td>\n",
       "      <td>0.0</td>\n",
       "    </tr>\n",
       "  </tbody>\n",
       "</table>\n",
       "</div>"
      ],
      "text/plain": [
       "           SimTime  G_1200_EXTRA_Lev_BR001A  G_1200_EXTRA_Lev_BR001B  \\\n",
       "1367527  136752600                 0.009999                 0.009999   \n",
       "1367528  136752700                 0.009999                 0.009999   \n",
       "1367529  136752800                 0.009999                 0.009999   \n",
       "1367530  136752900                 0.009999                 0.009999   \n",
       "1367531  136753000                 0.009999                 0.009999   \n",
       "\n",
       "         G_1200_EXTRA_Q_IAE  \n",
       "1367527                 0.0  \n",
       "1367528                 0.0  \n",
       "1367529                 0.0  \n",
       "1367530                 0.0  \n",
       "1367531                 0.0  "
      ]
     },
     "execution_count": 13,
     "metadata": {},
     "output_type": "execute_result"
    }
   ],
   "source": [
    "datos_new.tail() #Ultimas 5 filas del DataFrame"
   ]
  },
  {
   "cell_type": "markdown",
   "metadata": {},
   "source": [
    "Segun se observa la primera fila corresponde a tiempos anteriores al inicio de la simulacion y deben estar relacionados con valores iniciales del simulador. Estos valores no sirven para el proposito del analisis y por lo tanto proceso a borrarlos"
   ]
  },
  {
   "cell_type": "code",
   "execution_count": 14,
   "metadata": {},
   "outputs": [],
   "source": [
    "datos_new_1 = datos_new.drop([0],axis=0)"
   ]
  },
  {
   "cell_type": "code",
   "execution_count": 15,
   "metadata": {},
   "outputs": [
    {
     "data": {
      "text/html": [
       "<div>\n",
       "<style scoped>\n",
       "    .dataframe tbody tr th:only-of-type {\n",
       "        vertical-align: middle;\n",
       "    }\n",
       "\n",
       "    .dataframe tbody tr th {\n",
       "        vertical-align: top;\n",
       "    }\n",
       "\n",
       "    .dataframe thead th {\n",
       "        text-align: right;\n",
       "    }\n",
       "</style>\n",
       "<table border=\"1\" class=\"dataframe\">\n",
       "  <thead>\n",
       "    <tr style=\"text-align: right;\">\n",
       "      <th></th>\n",
       "      <th>SimTime</th>\n",
       "      <th>G_1200_EXTRA_Lev_BR001A</th>\n",
       "      <th>G_1200_EXTRA_Lev_BR001B</th>\n",
       "      <th>G_1200_EXTRA_Q_IAE</th>\n",
       "    </tr>\n",
       "  </thead>\n",
       "  <tbody>\n",
       "    <tr>\n",
       "      <th>1</th>\n",
       "      <td>0</td>\n",
       "      <td>2.42</td>\n",
       "      <td>2.42</td>\n",
       "      <td>0.0</td>\n",
       "    </tr>\n",
       "    <tr>\n",
       "      <th>2</th>\n",
       "      <td>100</td>\n",
       "      <td>2.42</td>\n",
       "      <td>2.42</td>\n",
       "      <td>0.0</td>\n",
       "    </tr>\n",
       "    <tr>\n",
       "      <th>3</th>\n",
       "      <td>200</td>\n",
       "      <td>2.42</td>\n",
       "      <td>2.42</td>\n",
       "      <td>0.0</td>\n",
       "    </tr>\n",
       "    <tr>\n",
       "      <th>4</th>\n",
       "      <td>300</td>\n",
       "      <td>2.42</td>\n",
       "      <td>2.42</td>\n",
       "      <td>0.0</td>\n",
       "    </tr>\n",
       "    <tr>\n",
       "      <th>5</th>\n",
       "      <td>400</td>\n",
       "      <td>2.42</td>\n",
       "      <td>2.42</td>\n",
       "      <td>0.0</td>\n",
       "    </tr>\n",
       "  </tbody>\n",
       "</table>\n",
       "</div>"
      ],
      "text/plain": [
       "   SimTime  G_1200_EXTRA_Lev_BR001A  G_1200_EXTRA_Lev_BR001B  \\\n",
       "1        0                     2.42                     2.42   \n",
       "2      100                     2.42                     2.42   \n",
       "3      200                     2.42                     2.42   \n",
       "4      300                     2.42                     2.42   \n",
       "5      400                     2.42                     2.42   \n",
       "\n",
       "   G_1200_EXTRA_Q_IAE  \n",
       "1                 0.0  \n",
       "2                 0.0  \n",
       "3                 0.0  \n",
       "4                 0.0  \n",
       "5                 0.0  "
      ]
     },
     "execution_count": 15,
     "metadata": {},
     "output_type": "execute_result"
    }
   ],
   "source": [
    "datos_new_1.head()"
   ]
  },
  {
   "cell_type": "markdown",
   "metadata": {},
   "source": [
    "## 4. Configuracion Columna \"Tiempo\" "
   ]
  },
  {
   "cell_type": "code",
   "execution_count": 16,
   "metadata": {},
   "outputs": [],
   "source": [
    "datos_new_1[\"SimTime\"] = (datos_new_1[\"SimTime\"]/(1000*3600)) #Configuro la columna SimTime para que tenga unidades de segundos"
   ]
  },
  {
   "cell_type": "code",
   "execution_count": 17,
   "metadata": {},
   "outputs": [
    {
     "data": {
      "text/html": [
       "<div>\n",
       "<style scoped>\n",
       "    .dataframe tbody tr th:only-of-type {\n",
       "        vertical-align: middle;\n",
       "    }\n",
       "\n",
       "    .dataframe tbody tr th {\n",
       "        vertical-align: top;\n",
       "    }\n",
       "\n",
       "    .dataframe thead th {\n",
       "        text-align: right;\n",
       "    }\n",
       "</style>\n",
       "<table border=\"1\" class=\"dataframe\">\n",
       "  <thead>\n",
       "    <tr style=\"text-align: right;\">\n",
       "      <th></th>\n",
       "      <th>SimTime</th>\n",
       "      <th>G_1200_EXTRA_Lev_BR001A</th>\n",
       "      <th>G_1200_EXTRA_Lev_BR001B</th>\n",
       "      <th>G_1200_EXTRA_Q_IAE</th>\n",
       "    </tr>\n",
       "  </thead>\n",
       "  <tbody>\n",
       "    <tr>\n",
       "      <th>1</th>\n",
       "      <td>0.000000</td>\n",
       "      <td>2.42</td>\n",
       "      <td>2.42</td>\n",
       "      <td>0.0</td>\n",
       "    </tr>\n",
       "    <tr>\n",
       "      <th>2</th>\n",
       "      <td>0.000028</td>\n",
       "      <td>2.42</td>\n",
       "      <td>2.42</td>\n",
       "      <td>0.0</td>\n",
       "    </tr>\n",
       "    <tr>\n",
       "      <th>3</th>\n",
       "      <td>0.000056</td>\n",
       "      <td>2.42</td>\n",
       "      <td>2.42</td>\n",
       "      <td>0.0</td>\n",
       "    </tr>\n",
       "    <tr>\n",
       "      <th>4</th>\n",
       "      <td>0.000083</td>\n",
       "      <td>2.42</td>\n",
       "      <td>2.42</td>\n",
       "      <td>0.0</td>\n",
       "    </tr>\n",
       "    <tr>\n",
       "      <th>5</th>\n",
       "      <td>0.000111</td>\n",
       "      <td>2.42</td>\n",
       "      <td>2.42</td>\n",
       "      <td>0.0</td>\n",
       "    </tr>\n",
       "  </tbody>\n",
       "</table>\n",
       "</div>"
      ],
      "text/plain": [
       "    SimTime  G_1200_EXTRA_Lev_BR001A  G_1200_EXTRA_Lev_BR001B  \\\n",
       "1  0.000000                     2.42                     2.42   \n",
       "2  0.000028                     2.42                     2.42   \n",
       "3  0.000056                     2.42                     2.42   \n",
       "4  0.000083                     2.42                     2.42   \n",
       "5  0.000111                     2.42                     2.42   \n",
       "\n",
       "   G_1200_EXTRA_Q_IAE  \n",
       "1                 0.0  \n",
       "2                 0.0  \n",
       "3                 0.0  \n",
       "4                 0.0  \n",
       "5                 0.0  "
      ]
     },
     "execution_count": 17,
     "metadata": {},
     "output_type": "execute_result"
    }
   ],
   "source": [
    "datos_new_1.head()"
   ]
  },
  {
   "cell_type": "code",
   "execution_count": 18,
   "metadata": {},
   "outputs": [
    {
     "data": {
      "text/html": [
       "<div>\n",
       "<style scoped>\n",
       "    .dataframe tbody tr th:only-of-type {\n",
       "        vertical-align: middle;\n",
       "    }\n",
       "\n",
       "    .dataframe tbody tr th {\n",
       "        vertical-align: top;\n",
       "    }\n",
       "\n",
       "    .dataframe thead th {\n",
       "        text-align: right;\n",
       "    }\n",
       "</style>\n",
       "<table border=\"1\" class=\"dataframe\">\n",
       "  <thead>\n",
       "    <tr style=\"text-align: right;\">\n",
       "      <th></th>\n",
       "      <th>SimTime</th>\n",
       "      <th>G_1200_EXTRA_Lev_BR001A</th>\n",
       "      <th>G_1200_EXTRA_Lev_BR001B</th>\n",
       "      <th>G_1200_EXTRA_Q_IAE</th>\n",
       "    </tr>\n",
       "  </thead>\n",
       "  <tbody>\n",
       "    <tr>\n",
       "      <th>1367527</th>\n",
       "      <td>37.986833</td>\n",
       "      <td>0.009999</td>\n",
       "      <td>0.009999</td>\n",
       "      <td>0.0</td>\n",
       "    </tr>\n",
       "    <tr>\n",
       "      <th>1367528</th>\n",
       "      <td>37.986861</td>\n",
       "      <td>0.009999</td>\n",
       "      <td>0.009999</td>\n",
       "      <td>0.0</td>\n",
       "    </tr>\n",
       "    <tr>\n",
       "      <th>1367529</th>\n",
       "      <td>37.986889</td>\n",
       "      <td>0.009999</td>\n",
       "      <td>0.009999</td>\n",
       "      <td>0.0</td>\n",
       "    </tr>\n",
       "    <tr>\n",
       "      <th>1367530</th>\n",
       "      <td>37.986917</td>\n",
       "      <td>0.009999</td>\n",
       "      <td>0.009999</td>\n",
       "      <td>0.0</td>\n",
       "    </tr>\n",
       "    <tr>\n",
       "      <th>1367531</th>\n",
       "      <td>37.986944</td>\n",
       "      <td>0.009999</td>\n",
       "      <td>0.009999</td>\n",
       "      <td>0.0</td>\n",
       "    </tr>\n",
       "  </tbody>\n",
       "</table>\n",
       "</div>"
      ],
      "text/plain": [
       "           SimTime  G_1200_EXTRA_Lev_BR001A  G_1200_EXTRA_Lev_BR001B  \\\n",
       "1367527  37.986833                 0.009999                 0.009999   \n",
       "1367528  37.986861                 0.009999                 0.009999   \n",
       "1367529  37.986889                 0.009999                 0.009999   \n",
       "1367530  37.986917                 0.009999                 0.009999   \n",
       "1367531  37.986944                 0.009999                 0.009999   \n",
       "\n",
       "         G_1200_EXTRA_Q_IAE  \n",
       "1367527                 0.0  \n",
       "1367528                 0.0  \n",
       "1367529                 0.0  \n",
       "1367530                 0.0  \n",
       "1367531                 0.0  "
      ]
     },
     "execution_count": 18,
     "metadata": {},
     "output_type": "execute_result"
    }
   ],
   "source": [
    "datos_new_1.tail()"
   ]
  },
  {
   "cell_type": "markdown",
   "metadata": {},
   "source": [
    "# 5. Graficos"
   ]
  },
  {
   "cell_type": "markdown",
   "metadata": {},
   "source": [
    "### 5.1 Nivel Tanque BR001A"
   ]
  },
  {
   "cell_type": "code",
   "execution_count": 19,
   "metadata": {},
   "outputs": [],
   "source": [
    "t = datos_new_1[\"SimTime\"]\n",
    "\n",
    "a = datos_new_1[\"G_1200_EXTRA_Lev_BR001A\"]\n",
    "\n",
    "b = datos_new_1[\"G_1200_EXTRA_Lev_BR001B\"]\n",
    "\n",
    "c = datos_new_1[\"G_1200_EXTRA_Q_IAE\"]"
   ]
  },
  {
   "cell_type": "code",
   "execution_count": 20,
   "metadata": {},
   "outputs": [
    {
     "data": {
      "image/png": "[encoded data removed]",
      "text/plain": [
       "<Figure size 432x288 with 1 Axes>"
      ]
     },
     "metadata": {},
     "output_type": "display_data"
    }
   ],
   "source": [
    "plt.plot(t,a)\n",
    "plt.xlim(4,40)\n",
    "\n",
    "plt.xlabel(\"Tiempo (h)\")\n",
    "plt.ylabel(\"Nivel de Tanque (m)\")\n",
    "plt.title(\"Nivel BR0001A\")\n",
    "\n",
    "plt.show()"
   ]
  },
  {
   "cell_type": "markdown",
   "metadata": {},
   "source": [
    "### 5.2 Nivel Tanque BR001B"
   ]
  },
  {
   "cell_type": "code",
   "execution_count": 21,
   "metadata": {},
   "outputs": [
    {
     "data": {
      "image/png": "[encoded data removed]",
      "text/plain": [
       "<Figure size 432x288 with 1 Axes>"
      ]
     },
     "metadata": {},
     "output_type": "display_data"
    }
   ],
   "source": [
    "plt.plot(t,b)\n",
    "plt.xlim(4,40)\n",
    "\n",
    "plt.xlabel(\"Tiempo (h)\")\n",
    "plt.ylabel(\"Nivel de Tanque (m)\")\n",
    "plt.title(\"Nivel BR0001B\")\n",
    "\n",
    "plt.show()"
   ]
  },
  {
   "cell_type": "markdown",
   "metadata": {},
   "source": [
    "### 5.3 Caudal IAE"
   ]
  },
  {
   "cell_type": "code",
   "execution_count": 22,
   "metadata": {},
   "outputs": [
    {
     "data": {
      "image/png": "[encoded data removed]",
      "text/plain": [
       "<Figure size 432x288 with 1 Axes>"
      ]
     },
     "metadata": {},
     "output_type": "display_data"
    }
   ],
   "source": [
    "plt.plot(t,c)\n",
    "plt.xlim(5,40)\n",
    "\n",
    "plt.xlabel(\"Tiempo (h)\")\n",
    "plt.ylabel(\"Caudal IAE (m3/h)\")\n",
    "plt.title(\"Caudal IAE\")\n",
    "\n",
    "plt.show()"
   ]
  },
  {
   "cell_type": "code",
   "execution_count": 23,
   "metadata": {},
   "outputs": [
    {
     "data": {
      "image/png": "[encoded data removed]",
      "text/plain": [
       "<Figure size 432x288 with 1 Axes>"
      ]
     },
     "metadata": {},
     "output_type": "display_data"
    }
   ],
   "source": [
    "plt.plot(t,c)\n",
    "plt.xlim(5,40)\n",
    "plt.ylim(1,1.2)\n",
    "\n",
    "plt.xlabel(\"Tiempo (h)\")\n",
    "plt.ylabel(\"Caudal IAE (m3/h)\")\n",
    "plt.title(\"Caudal IAE\")\n",
    "\n",
    "plt.show()"
   ]
  },
  {
   "cell_type": "code",
   "execution_count": 24,
   "metadata": {},
   "outputs": [
    {
     "data": {
      "image/png": "[encoded data removed]",
      "text/plain": [
       "<Figure size 432x288 with 1 Axes>"
      ]
     },
     "metadata": {},
     "output_type": "display_data"
    }
   ],
   "source": [
    "plt.plot(t,c)\n",
    "plt.xlim(6.075,6.2)\n",
    "plt.ylim(1.10,1.2)\n",
    "\n",
    "plt.xlabel(\"Tiempo (h)\")\n",
    "plt.ylabel(\"Caudal IAE (m3/h)\")\n",
    "plt.title(\"Caudal IAE\")\n",
    "\n",
    "plt.show()"
   ]
  },
  {
   "cell_type": "code",
   "execution_count": 25,
   "metadata": {},
   "outputs": [
    {
     "data": {
      "image/png": "[encoded data removed]",
      "text/plain": [
       "<Figure size 432x288 with 1 Axes>"
      ]
     },
     "metadata": {},
     "output_type": "display_data"
    }
   ],
   "source": [
    "plt.plot(t,c)\n",
    "plt.xlim(6.2,6.4)\n",
    "plt.ylim(1.10,1.14)\n",
    "\n",
    "plt.xlabel(\"Tiempo (h)\")\n",
    "plt.ylabel(\"Caudal IAE (m3/h)\")\n",
    "plt.title(\"Caudal IAE\")\n",
    "\n",
    "plt.show()"
   ]
  },
  {
   "cell_type": "code",
   "execution_count": 26,
   "metadata": {},
   "outputs": [
    {
     "data": {
      "image/png": "[encoded data removed]",
      "text/plain": [
       "<Figure size 432x288 with 1 Axes>"
      ]
     },
     "metadata": {},
     "output_type": "display_data"
    }
   ],
   "source": [
    "plt.plot(t,c)\n",
    "plt.xlim(36,38)\n",
    "plt.ylim(1.01,1.025)\n",
    "\n",
    "plt.xlabel(\"Tiempo (h)\")\n",
    "plt.ylabel(\"Caudal IAE (m3/h)\")\n",
    "plt.title(\"Caudal IAE\")\n",
    "\n",
    "plt.show()"
   ]
  },
  {
   "cell_type": "code",
   "execution_count": null,
   "metadata": {},
   "outputs": [],
   "source": []
  }
 ],
 "metadata": {
  "kernelspec": {
   "display_name": "Python 3",
   "language": "python",
   "name": "python3"
  },
  "language_info": {
   "codemirror_mode": {
    "name": "ipython",
    "version": 3
   },
   "file_extension": ".py",
   "mimetype": "text/x-python",
   "name": "python",
   "nbconvert_exporter": "python",
   "pygments_lexer": "ipython3",
   "version": "3.6.5"
  }
 },
 "nbformat": 4,
 "nbformat_minor": 2
}
