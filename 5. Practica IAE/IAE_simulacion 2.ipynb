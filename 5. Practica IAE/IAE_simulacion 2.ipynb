{
 "cells": [
  {
   "cell_type": "markdown",
   "metadata": {},
   "source": [
    "# PRE / PSE LOCA +5900 - Nivel en Pileta"
   ]
  },
  {
   "cell_type": "code",
   "execution_count": 1,
   "metadata": {},
   "outputs": [],
   "source": [
    "#Realizo la llamada a los paquetes a Utilizar\n",
    "\n",
    "import numpy as np\n",
    "import pandas as pd\n",
    "import matplotlib.pyplot as plt"
   ]
  },
  {
   "cell_type": "markdown",
   "metadata": {},
   "source": [
    "## 1. Lectura del Archivo"
   ]
  },
  {
   "cell_type": "code",
   "execution_count": 2,
   "metadata": {},
   "outputs": [],
   "source": [
    "datos = pd.read_csv(r\"C:\\Users\\User0044\\Practica IAE\\IAE_simulacion 2.csv\",low_memory=False) #Realizo la lectura de CSV y lo asocio al DataFrame \"datos\""
   ]
  },
  {
   "cell_type": "markdown",
   "metadata": {},
   "source": [
    "## 2. Visualizacion General del DataFrame "
   ]
  },
  {
   "cell_type": "code",
   "execution_count": 3,
   "metadata": {},
   "outputs": [
    {
     "data": {
      "text/html": [
       "<div>\n",
       "<style scoped>\n",
       "    .dataframe tbody tr th:only-of-type {\n",
       "        vertical-align: middle;\n",
       "    }\n",
       "\n",
       "    .dataframe tbody tr th {\n",
       "        vertical-align: top;\n",
       "    }\n",
       "\n",
       "    .dataframe thead th {\n",
       "        text-align: right;\n",
       "    }\n",
       "</style>\n",
       "<table border=\"1\" class=\"dataframe\">\n",
       "  <thead>\n",
       "    <tr style=\"text-align: right;\">\n",
       "      <th></th>\n",
       "      <th>SimTime</th>\n",
       "      <th>G_0600_EXTRA_Lev_PRE</th>\n",
       "      <th>Log</th>\n",
       "    </tr>\n",
       "  </thead>\n",
       "  <tbody>\n",
       "    <tr>\n",
       "      <th>0</th>\n",
       "      <td>-7500</td>\n",
       "      <td>12.5970</td>\n",
       "      <td>NaN</td>\n",
       "    </tr>\n",
       "    <tr>\n",
       "      <th>1</th>\n",
       "      <td>0</td>\n",
       "      <td>12.5970</td>\n",
       "      <td>All modules prepared\\nRunning at: 100x of Real...</td>\n",
       "    </tr>\n",
       "    <tr>\n",
       "      <th>2</th>\n",
       "      <td>100</td>\n",
       "      <td>12.5970</td>\n",
       "      <td>NaN</td>\n",
       "    </tr>\n",
       "    <tr>\n",
       "      <th>3</th>\n",
       "      <td>200</td>\n",
       "      <td>12.5970</td>\n",
       "      <td>NaN</td>\n",
       "    </tr>\n",
       "    <tr>\n",
       "      <th>4</th>\n",
       "      <td>300</td>\n",
       "      <td>12.5970</td>\n",
       "      <td>NaN</td>\n",
       "    </tr>\n",
       "    <tr>\n",
       "      <th>5</th>\n",
       "      <td>400</td>\n",
       "      <td>12.5970</td>\n",
       "      <td>NaN</td>\n",
       "    </tr>\n",
       "    <tr>\n",
       "      <th>6</th>\n",
       "      <td>500</td>\n",
       "      <td>12.5970</td>\n",
       "      <td>NaN</td>\n",
       "    </tr>\n",
       "    <tr>\n",
       "      <th>7</th>\n",
       "      <td>600</td>\n",
       "      <td>12.5970</td>\n",
       "      <td>NaN</td>\n",
       "    </tr>\n",
       "    <tr>\n",
       "      <th>8</th>\n",
       "      <td>700</td>\n",
       "      <td>12.5970</td>\n",
       "      <td>NaN</td>\n",
       "    </tr>\n",
       "    <tr>\n",
       "      <th>9</th>\n",
       "      <td>800</td>\n",
       "      <td>12.5970</td>\n",
       "      <td>NaN</td>\n",
       "    </tr>\n",
       "    <tr>\n",
       "      <th>10</th>\n",
       "      <td>900</td>\n",
       "      <td>12.5970</td>\n",
       "      <td>NaN</td>\n",
       "    </tr>\n",
       "    <tr>\n",
       "      <th>11</th>\n",
       "      <td>1000</td>\n",
       "      <td>12.5970</td>\n",
       "      <td>&lt;?xml version='1.0'?&gt;\\n&lt;Log Msg='Task (Activat...</td>\n",
       "    </tr>\n",
       "    <tr>\n",
       "      <th>12</th>\n",
       "      <td>1100</td>\n",
       "      <td>12.5970</td>\n",
       "      <td>NaN</td>\n",
       "    </tr>\n",
       "    <tr>\n",
       "      <th>13</th>\n",
       "      <td>1200</td>\n",
       "      <td>12.5970</td>\n",
       "      <td>NaN</td>\n",
       "    </tr>\n",
       "    <tr>\n",
       "      <th>14</th>\n",
       "      <td>1300</td>\n",
       "      <td>12.5969</td>\n",
       "      <td>NaN</td>\n",
       "    </tr>\n",
       "    <tr>\n",
       "      <th>15</th>\n",
       "      <td>1400</td>\n",
       "      <td>12.5968</td>\n",
       "      <td>NaN</td>\n",
       "    </tr>\n",
       "    <tr>\n",
       "      <th>16</th>\n",
       "      <td>1500</td>\n",
       "      <td>12.5968</td>\n",
       "      <td>NaN</td>\n",
       "    </tr>\n",
       "    <tr>\n",
       "      <th>17</th>\n",
       "      <td>1600</td>\n",
       "      <td>12.5968</td>\n",
       "      <td>NaN</td>\n",
       "    </tr>\n",
       "    <tr>\n",
       "      <th>18</th>\n",
       "      <td>1700</td>\n",
       "      <td>12.5968</td>\n",
       "      <td>NaN</td>\n",
       "    </tr>\n",
       "    <tr>\n",
       "      <th>19</th>\n",
       "      <td>1800</td>\n",
       "      <td>12.5968</td>\n",
       "      <td>NaN</td>\n",
       "    </tr>\n",
       "  </tbody>\n",
       "</table>\n",
       "</div>"
      ],
      "text/plain": [
       "    SimTime  G_0600_EXTRA_Lev_PRE  \\\n",
       "0     -7500               12.5970   \n",
       "1         0               12.5970   \n",
       "2       100               12.5970   \n",
       "3       200               12.5970   \n",
       "4       300               12.5970   \n",
       "5       400               12.5970   \n",
       "6       500               12.5970   \n",
       "7       600               12.5970   \n",
       "8       700               12.5970   \n",
       "9       800               12.5970   \n",
       "10      900               12.5970   \n",
       "11     1000               12.5970   \n",
       "12     1100               12.5970   \n",
       "13     1200               12.5970   \n",
       "14     1300               12.5969   \n",
       "15     1400               12.5968   \n",
       "16     1500               12.5968   \n",
       "17     1600               12.5968   \n",
       "18     1700               12.5968   \n",
       "19     1800               12.5968   \n",
       "\n",
       "                                                  Log  \n",
       "0                                                 NaN  \n",
       "1   All modules prepared\\nRunning at: 100x of Real...  \n",
       "2                                                 NaN  \n",
       "3                                                 NaN  \n",
       "4                                                 NaN  \n",
       "5                                                 NaN  \n",
       "6                                                 NaN  \n",
       "7                                                 NaN  \n",
       "8                                                 NaN  \n",
       "9                                                 NaN  \n",
       "10                                                NaN  \n",
       "11  <?xml version='1.0'?>\\n<Log Msg='Task (Activat...  \n",
       "12                                                NaN  \n",
       "13                                                NaN  \n",
       "14                                                NaN  \n",
       "15                                                NaN  \n",
       "16                                                NaN  \n",
       "17                                                NaN  \n",
       "18                                                NaN  \n",
       "19                                                NaN  "
      ]
     },
     "execution_count": 3,
     "metadata": {},
     "output_type": "execute_result"
    }
   ],
   "source": [
    "datos.head(20) #Primero 20 filas del DataFrame"
   ]
  },
  {
   "cell_type": "code",
   "execution_count": 4,
   "metadata": {},
   "outputs": [
    {
     "data": {
      "text/html": [
       "<div>\n",
       "<style scoped>\n",
       "    .dataframe tbody tr th:only-of-type {\n",
       "        vertical-align: middle;\n",
       "    }\n",
       "\n",
       "    .dataframe tbody tr th {\n",
       "        vertical-align: top;\n",
       "    }\n",
       "\n",
       "    .dataframe thead th {\n",
       "        text-align: right;\n",
       "    }\n",
       "</style>\n",
       "<table border=\"1\" class=\"dataframe\">\n",
       "  <thead>\n",
       "    <tr style=\"text-align: right;\">\n",
       "      <th></th>\n",
       "      <th>SimTime</th>\n",
       "      <th>G_0600_EXTRA_Lev_PRE</th>\n",
       "      <th>Log</th>\n",
       "    </tr>\n",
       "  </thead>\n",
       "  <tbody>\n",
       "    <tr>\n",
       "      <th>1368584</th>\n",
       "      <td>136858300</td>\n",
       "      <td>5.90000</td>\n",
       "      <td>NaN</td>\n",
       "    </tr>\n",
       "    <tr>\n",
       "      <th>1368585</th>\n",
       "      <td>136858400</td>\n",
       "      <td>5.90000</td>\n",
       "      <td>NaN</td>\n",
       "    </tr>\n",
       "    <tr>\n",
       "      <th>1368586</th>\n",
       "      <td>136858500</td>\n",
       "      <td>5.90000</td>\n",
       "      <td>NaN</td>\n",
       "    </tr>\n",
       "    <tr>\n",
       "      <th>1368587</th>\n",
       "      <td>136858600</td>\n",
       "      <td>5.90000</td>\n",
       "      <td>NaN</td>\n",
       "    </tr>\n",
       "    <tr>\n",
       "      <th>1368588</th>\n",
       "      <td>136858700</td>\n",
       "      <td>5.90000</td>\n",
       "      <td>NaN</td>\n",
       "    </tr>\n",
       "    <tr>\n",
       "      <th>1368589</th>\n",
       "      <td>136858800</td>\n",
       "      <td>5.90000</td>\n",
       "      <td>NaN</td>\n",
       "    </tr>\n",
       "    <tr>\n",
       "      <th>1368590</th>\n",
       "      <td>136858900</td>\n",
       "      <td>5.89996</td>\n",
       "      <td>NaN</td>\n",
       "    </tr>\n",
       "    <tr>\n",
       "      <th>1368591</th>\n",
       "      <td>136859000</td>\n",
       "      <td>5.89991</td>\n",
       "      <td>NaN</td>\n",
       "    </tr>\n",
       "    <tr>\n",
       "      <th>1368592</th>\n",
       "      <td>136859100</td>\n",
       "      <td>5.89991</td>\n",
       "      <td>NaN</td>\n",
       "    </tr>\n",
       "    <tr>\n",
       "      <th>1368593</th>\n",
       "      <td>136859200</td>\n",
       "      <td>5.89992</td>\n",
       "      <td>NaN</td>\n",
       "    </tr>\n",
       "    <tr>\n",
       "      <th>1368594</th>\n",
       "      <td>136859300</td>\n",
       "      <td>5.89992</td>\n",
       "      <td>NaN</td>\n",
       "    </tr>\n",
       "    <tr>\n",
       "      <th>1368595</th>\n",
       "      <td>136859400</td>\n",
       "      <td>5.89992</td>\n",
       "      <td>NaN</td>\n",
       "    </tr>\n",
       "    <tr>\n",
       "      <th>1368596</th>\n",
       "      <td>136859500</td>\n",
       "      <td>5.89992</td>\n",
       "      <td>NaN</td>\n",
       "    </tr>\n",
       "    <tr>\n",
       "      <th>1368597</th>\n",
       "      <td>136859600</td>\n",
       "      <td>5.89992</td>\n",
       "      <td>NaN</td>\n",
       "    </tr>\n",
       "    <tr>\n",
       "      <th>1368598</th>\n",
       "      <td>136859700</td>\n",
       "      <td>5.89992</td>\n",
       "      <td>NaN</td>\n",
       "    </tr>\n",
       "    <tr>\n",
       "      <th>1368599</th>\n",
       "      <td>136859800</td>\n",
       "      <td>5.89992</td>\n",
       "      <td>NaN</td>\n",
       "    </tr>\n",
       "    <tr>\n",
       "      <th>1368600</th>\n",
       "      <td>136859900</td>\n",
       "      <td>5.89992</td>\n",
       "      <td>NaN</td>\n",
       "    </tr>\n",
       "    <tr>\n",
       "      <th>1368601</th>\n",
       "      <td>136860000</td>\n",
       "      <td>5.89992</td>\n",
       "      <td>NaN</td>\n",
       "    </tr>\n",
       "    <tr>\n",
       "      <th>1368602</th>\n",
       "      <td>136860100</td>\n",
       "      <td>5.89992</td>\n",
       "      <td>NaN</td>\n",
       "    </tr>\n",
       "    <tr>\n",
       "      <th>1368603</th>\n",
       "      <td>136860200</td>\n",
       "      <td>5.89992</td>\n",
       "      <td>Pause simulation OK.\\nBacktrack request sent t...</td>\n",
       "    </tr>\n",
       "  </tbody>\n",
       "</table>\n",
       "</div>"
      ],
      "text/plain": [
       "           SimTime  G_0600_EXTRA_Lev_PRE  \\\n",
       "1368584  136858300               5.90000   \n",
       "1368585  136858400               5.90000   \n",
       "1368586  136858500               5.90000   \n",
       "1368587  136858600               5.90000   \n",
       "1368588  136858700               5.90000   \n",
       "1368589  136858800               5.90000   \n",
       "1368590  136858900               5.89996   \n",
       "1368591  136859000               5.89991   \n",
       "1368592  136859100               5.89991   \n",
       "1368593  136859200               5.89992   \n",
       "1368594  136859300               5.89992   \n",
       "1368595  136859400               5.89992   \n",
       "1368596  136859500               5.89992   \n",
       "1368597  136859600               5.89992   \n",
       "1368598  136859700               5.89992   \n",
       "1368599  136859800               5.89992   \n",
       "1368600  136859900               5.89992   \n",
       "1368601  136860000               5.89992   \n",
       "1368602  136860100               5.89992   \n",
       "1368603  136860200               5.89992   \n",
       "\n",
       "                                                       Log  \n",
       "1368584                                                NaN  \n",
       "1368585                                                NaN  \n",
       "1368586                                                NaN  \n",
       "1368587                                                NaN  \n",
       "1368588                                                NaN  \n",
       "1368589                                                NaN  \n",
       "1368590                                                NaN  \n",
       "1368591                                                NaN  \n",
       "1368592                                                NaN  \n",
       "1368593                                                NaN  \n",
       "1368594                                                NaN  \n",
       "1368595                                                NaN  \n",
       "1368596                                                NaN  \n",
       "1368597                                                NaN  \n",
       "1368598                                                NaN  \n",
       "1368599                                                NaN  \n",
       "1368600                                                NaN  \n",
       "1368601                                                NaN  \n",
       "1368602                                                NaN  \n",
       "1368603  Pause simulation OK.\\nBacktrack request sent t...  "
      ]
     },
     "execution_count": 4,
     "metadata": {},
     "output_type": "execute_result"
    }
   ],
   "source": [
    "datos.tail(20) #Ultimas 5 filas del DataFrame"
   ]
  },
  {
   "cell_type": "code",
   "execution_count": 5,
   "metadata": {},
   "outputs": [
    {
     "name": "stdout",
     "output_type": "stream",
     "text": [
      "<class 'pandas.core.frame.DataFrame'>\n",
      "RangeIndex: 1368604 entries, 0 to 1368603\n",
      "Data columns (total 3 columns):\n",
      "SimTime                 1368604 non-null int64\n",
      "G_0600_EXTRA_Lev_PRE    1368604 non-null float64\n",
      "Log                     930 non-null object\n",
      "dtypes: float64(1), int64(1), object(1)\n",
      "memory usage: 31.3+ MB\n"
     ]
    }
   ],
   "source": [
    "datos.info() #Reralizo una Visualizacion general de las caracteristicas del DataFrame"
   ]
  },
  {
   "cell_type": "code",
   "execution_count": 6,
   "metadata": {},
   "outputs": [
    {
     "data": {
      "text/plain": [
       "Index(['SimTime', 'G_0600_EXTRA_Lev_PRE', 'Log'], dtype='object')"
      ]
     },
     "execution_count": 6,
     "metadata": {},
     "output_type": "execute_result"
    }
   ],
   "source": [
    "datos.columns #Visualizo las columnas del DataFrame"
   ]
  },
  {
   "cell_type": "code",
   "execution_count": 7,
   "metadata": {},
   "outputs": [
    {
     "data": {
      "text/plain": [
       "SimTime                   int64\n",
       "G_0600_EXTRA_Lev_PRE    float64\n",
       "Log                      object\n",
       "dtype: object"
      ]
     },
     "execution_count": 7,
     "metadata": {},
     "output_type": "execute_result"
    }
   ],
   "source": [
    "datos.dtypes #Tipos de datos de cada columna"
   ]
  },
  {
   "cell_type": "markdown",
   "metadata": {},
   "source": [
    "## 3. Analisis de valores Nulos y Anormales"
   ]
  },
  {
   "cell_type": "code",
   "execution_count": 8,
   "metadata": {},
   "outputs": [
    {
     "data": {
      "text/plain": [
       "SimTime                       0\n",
       "G_0600_EXTRA_Lev_PRE          0\n",
       "Log                     1367674\n",
       "dtype: int64"
      ]
     },
     "execution_count": 8,
     "metadata": {},
     "output_type": "execute_result"
    }
   ],
   "source": [
    "datos.isnull().sum() #Cuento la cantidad de nulos que tiene cada columna"
   ]
  },
  {
   "cell_type": "markdown",
   "metadata": {},
   "source": [
    "Segun se observa la columna Log tiene una cantidad muy grande de nulos, los cuales seguramente corresponden a los datos de inicio/fin de simulacion y correspondiente a OOS (out of scope). Por este motivo procedo a borrar esta columna por completo:"
   ]
  },
  {
   "cell_type": "code",
   "execution_count": 9,
   "metadata": {},
   "outputs": [],
   "source": [
    "datos_new = datos.drop(\"Log\",axis=1)"
   ]
  },
  {
   "cell_type": "code",
   "execution_count": 10,
   "metadata": {},
   "outputs": [
    {
     "name": "stdout",
     "output_type": "stream",
     "text": [
      "<class 'pandas.core.frame.DataFrame'>\n",
      "RangeIndex: 1368604 entries, 0 to 1368603\n",
      "Data columns (total 2 columns):\n",
      "SimTime                 1368604 non-null int64\n",
      "G_0600_EXTRA_Lev_PRE    1368604 non-null float64\n",
      "dtypes: float64(1), int64(1)\n",
      "memory usage: 20.9 MB\n"
     ]
    }
   ],
   "source": [
    "datos_new.info() #Verifico que la columna \"Log\" se borro"
   ]
  },
  {
   "cell_type": "code",
   "execution_count": 11,
   "metadata": {},
   "outputs": [
    {
     "data": {
      "text/html": [
       "<div>\n",
       "<style scoped>\n",
       "    .dataframe tbody tr th:only-of-type {\n",
       "        vertical-align: middle;\n",
       "    }\n",
       "\n",
       "    .dataframe tbody tr th {\n",
       "        vertical-align: top;\n",
       "    }\n",
       "\n",
       "    .dataframe thead th {\n",
       "        text-align: right;\n",
       "    }\n",
       "</style>\n",
       "<table border=\"1\" class=\"dataframe\">\n",
       "  <thead>\n",
       "    <tr style=\"text-align: right;\">\n",
       "      <th></th>\n",
       "      <th>SimTime</th>\n",
       "      <th>G_0600_EXTRA_Lev_PRE</th>\n",
       "    </tr>\n",
       "  </thead>\n",
       "  <tbody>\n",
       "    <tr>\n",
       "      <th>0</th>\n",
       "      <td>-7500</td>\n",
       "      <td>12.597</td>\n",
       "    </tr>\n",
       "    <tr>\n",
       "      <th>1</th>\n",
       "      <td>0</td>\n",
       "      <td>12.597</td>\n",
       "    </tr>\n",
       "    <tr>\n",
       "      <th>2</th>\n",
       "      <td>100</td>\n",
       "      <td>12.597</td>\n",
       "    </tr>\n",
       "    <tr>\n",
       "      <th>3</th>\n",
       "      <td>200</td>\n",
       "      <td>12.597</td>\n",
       "    </tr>\n",
       "    <tr>\n",
       "      <th>4</th>\n",
       "      <td>300</td>\n",
       "      <td>12.597</td>\n",
       "    </tr>\n",
       "  </tbody>\n",
       "</table>\n",
       "</div>"
      ],
      "text/plain": [
       "   SimTime  G_0600_EXTRA_Lev_PRE\n",
       "0    -7500                12.597\n",
       "1        0                12.597\n",
       "2      100                12.597\n",
       "3      200                12.597\n",
       "4      300                12.597"
      ]
     },
     "execution_count": 11,
     "metadata": {},
     "output_type": "execute_result"
    }
   ],
   "source": [
    "datos_new.head()#Primero 5 filas del DataFrame"
   ]
  },
  {
   "cell_type": "code",
   "execution_count": 12,
   "metadata": {},
   "outputs": [
    {
     "data": {
      "text/html": [
       "<div>\n",
       "<style scoped>\n",
       "    .dataframe tbody tr th:only-of-type {\n",
       "        vertical-align: middle;\n",
       "    }\n",
       "\n",
       "    .dataframe tbody tr th {\n",
       "        vertical-align: top;\n",
       "    }\n",
       "\n",
       "    .dataframe thead th {\n",
       "        text-align: right;\n",
       "    }\n",
       "</style>\n",
       "<table border=\"1\" class=\"dataframe\">\n",
       "  <thead>\n",
       "    <tr style=\"text-align: right;\">\n",
       "      <th></th>\n",
       "      <th>SimTime</th>\n",
       "      <th>G_0600_EXTRA_Lev_PRE</th>\n",
       "    </tr>\n",
       "  </thead>\n",
       "  <tbody>\n",
       "    <tr>\n",
       "      <th>1368599</th>\n",
       "      <td>136859800</td>\n",
       "      <td>5.89992</td>\n",
       "    </tr>\n",
       "    <tr>\n",
       "      <th>1368600</th>\n",
       "      <td>136859900</td>\n",
       "      <td>5.89992</td>\n",
       "    </tr>\n",
       "    <tr>\n",
       "      <th>1368601</th>\n",
       "      <td>136860000</td>\n",
       "      <td>5.89992</td>\n",
       "    </tr>\n",
       "    <tr>\n",
       "      <th>1368602</th>\n",
       "      <td>136860100</td>\n",
       "      <td>5.89992</td>\n",
       "    </tr>\n",
       "    <tr>\n",
       "      <th>1368603</th>\n",
       "      <td>136860200</td>\n",
       "      <td>5.89992</td>\n",
       "    </tr>\n",
       "  </tbody>\n",
       "</table>\n",
       "</div>"
      ],
      "text/plain": [
       "           SimTime  G_0600_EXTRA_Lev_PRE\n",
       "1368599  136859800               5.89992\n",
       "1368600  136859900               5.89992\n",
       "1368601  136860000               5.89992\n",
       "1368602  136860100               5.89992\n",
       "1368603  136860200               5.89992"
      ]
     },
     "execution_count": 12,
     "metadata": {},
     "output_type": "execute_result"
    }
   ],
   "source": [
    "datos_new.tail() #Ultimas 5 filas del DataFrame"
   ]
  },
  {
   "cell_type": "markdown",
   "metadata": {},
   "source": [
    "Segun se observa la primera fila corresponde a tiempos anteriores al inicio de la simulacion y deben estar relacionados con valores iniciales del simulador. Estos valores no sirven para el proposito del analisis y por lo tanto proceso a borrarlos"
   ]
  },
  {
   "cell_type": "code",
   "execution_count": 13,
   "metadata": {},
   "outputs": [],
   "source": [
    "datos_new_1 = datos_new.drop([0],axis=0)"
   ]
  },
  {
   "cell_type": "code",
   "execution_count": 14,
   "metadata": {},
   "outputs": [
    {
     "data": {
      "text/html": [
       "<div>\n",
       "<style scoped>\n",
       "    .dataframe tbody tr th:only-of-type {\n",
       "        vertical-align: middle;\n",
       "    }\n",
       "\n",
       "    .dataframe tbody tr th {\n",
       "        vertical-align: top;\n",
       "    }\n",
       "\n",
       "    .dataframe thead th {\n",
       "        text-align: right;\n",
       "    }\n",
       "</style>\n",
       "<table border=\"1\" class=\"dataframe\">\n",
       "  <thead>\n",
       "    <tr style=\"text-align: right;\">\n",
       "      <th></th>\n",
       "      <th>SimTime</th>\n",
       "      <th>G_0600_EXTRA_Lev_PRE</th>\n",
       "    </tr>\n",
       "  </thead>\n",
       "  <tbody>\n",
       "    <tr>\n",
       "      <th>1</th>\n",
       "      <td>0</td>\n",
       "      <td>12.597</td>\n",
       "    </tr>\n",
       "    <tr>\n",
       "      <th>2</th>\n",
       "      <td>100</td>\n",
       "      <td>12.597</td>\n",
       "    </tr>\n",
       "    <tr>\n",
       "      <th>3</th>\n",
       "      <td>200</td>\n",
       "      <td>12.597</td>\n",
       "    </tr>\n",
       "    <tr>\n",
       "      <th>4</th>\n",
       "      <td>300</td>\n",
       "      <td>12.597</td>\n",
       "    </tr>\n",
       "    <tr>\n",
       "      <th>5</th>\n",
       "      <td>400</td>\n",
       "      <td>12.597</td>\n",
       "    </tr>\n",
       "  </tbody>\n",
       "</table>\n",
       "</div>"
      ],
      "text/plain": [
       "   SimTime  G_0600_EXTRA_Lev_PRE\n",
       "1        0                12.597\n",
       "2      100                12.597\n",
       "3      200                12.597\n",
       "4      300                12.597\n",
       "5      400                12.597"
      ]
     },
     "execution_count": 14,
     "metadata": {},
     "output_type": "execute_result"
    }
   ],
   "source": [
    "datos_new_1.head()"
   ]
  },
  {
   "cell_type": "markdown",
   "metadata": {},
   "source": [
    "## 4. Configuracion Columna \"Tiempo\" "
   ]
  },
  {
   "cell_type": "code",
   "execution_count": 15,
   "metadata": {},
   "outputs": [],
   "source": [
    "datos_new_1[\"SimTime\"] = (datos_new_1[\"SimTime\"]/(1000*3600)) #Configuro la columna SimTime para que tenga unidades de segundos"
   ]
  },
  {
   "cell_type": "code",
   "execution_count": 16,
   "metadata": {},
   "outputs": [
    {
     "data": {
      "text/html": [
       "<div>\n",
       "<style scoped>\n",
       "    .dataframe tbody tr th:only-of-type {\n",
       "        vertical-align: middle;\n",
       "    }\n",
       "\n",
       "    .dataframe tbody tr th {\n",
       "        vertical-align: top;\n",
       "    }\n",
       "\n",
       "    .dataframe thead th {\n",
       "        text-align: right;\n",
       "    }\n",
       "</style>\n",
       "<table border=\"1\" class=\"dataframe\">\n",
       "  <thead>\n",
       "    <tr style=\"text-align: right;\">\n",
       "      <th></th>\n",
       "      <th>SimTime</th>\n",
       "      <th>G_0600_EXTRA_Lev_PRE</th>\n",
       "    </tr>\n",
       "  </thead>\n",
       "  <tbody>\n",
       "    <tr>\n",
       "      <th>1</th>\n",
       "      <td>0.000000</td>\n",
       "      <td>12.597</td>\n",
       "    </tr>\n",
       "    <tr>\n",
       "      <th>2</th>\n",
       "      <td>0.000028</td>\n",
       "      <td>12.597</td>\n",
       "    </tr>\n",
       "    <tr>\n",
       "      <th>3</th>\n",
       "      <td>0.000056</td>\n",
       "      <td>12.597</td>\n",
       "    </tr>\n",
       "    <tr>\n",
       "      <th>4</th>\n",
       "      <td>0.000083</td>\n",
       "      <td>12.597</td>\n",
       "    </tr>\n",
       "    <tr>\n",
       "      <th>5</th>\n",
       "      <td>0.000111</td>\n",
       "      <td>12.597</td>\n",
       "    </tr>\n",
       "  </tbody>\n",
       "</table>\n",
       "</div>"
      ],
      "text/plain": [
       "    SimTime  G_0600_EXTRA_Lev_PRE\n",
       "1  0.000000                12.597\n",
       "2  0.000028                12.597\n",
       "3  0.000056                12.597\n",
       "4  0.000083                12.597\n",
       "5  0.000111                12.597"
      ]
     },
     "execution_count": 16,
     "metadata": {},
     "output_type": "execute_result"
    }
   ],
   "source": [
    "datos_new_1.head()"
   ]
  },
  {
   "cell_type": "code",
   "execution_count": 17,
   "metadata": {},
   "outputs": [
    {
     "data": {
      "text/html": [
       "<div>\n",
       "<style scoped>\n",
       "    .dataframe tbody tr th:only-of-type {\n",
       "        vertical-align: middle;\n",
       "    }\n",
       "\n",
       "    .dataframe tbody tr th {\n",
       "        vertical-align: top;\n",
       "    }\n",
       "\n",
       "    .dataframe thead th {\n",
       "        text-align: right;\n",
       "    }\n",
       "</style>\n",
       "<table border=\"1\" class=\"dataframe\">\n",
       "  <thead>\n",
       "    <tr style=\"text-align: right;\">\n",
       "      <th></th>\n",
       "      <th>SimTime</th>\n",
       "      <th>G_0600_EXTRA_Lev_PRE</th>\n",
       "    </tr>\n",
       "  </thead>\n",
       "  <tbody>\n",
       "    <tr>\n",
       "      <th>1368599</th>\n",
       "      <td>38.016611</td>\n",
       "      <td>5.89992</td>\n",
       "    </tr>\n",
       "    <tr>\n",
       "      <th>1368600</th>\n",
       "      <td>38.016639</td>\n",
       "      <td>5.89992</td>\n",
       "    </tr>\n",
       "    <tr>\n",
       "      <th>1368601</th>\n",
       "      <td>38.016667</td>\n",
       "      <td>5.89992</td>\n",
       "    </tr>\n",
       "    <tr>\n",
       "      <th>1368602</th>\n",
       "      <td>38.016694</td>\n",
       "      <td>5.89992</td>\n",
       "    </tr>\n",
       "    <tr>\n",
       "      <th>1368603</th>\n",
       "      <td>38.016722</td>\n",
       "      <td>5.89992</td>\n",
       "    </tr>\n",
       "  </tbody>\n",
       "</table>\n",
       "</div>"
      ],
      "text/plain": [
       "           SimTime  G_0600_EXTRA_Lev_PRE\n",
       "1368599  38.016611               5.89992\n",
       "1368600  38.016639               5.89992\n",
       "1368601  38.016667               5.89992\n",
       "1368602  38.016694               5.89992\n",
       "1368603  38.016722               5.89992"
      ]
     },
     "execution_count": 17,
     "metadata": {},
     "output_type": "execute_result"
    }
   ],
   "source": [
    "datos_new_1.tail()"
   ]
  },
  {
   "cell_type": "markdown",
   "metadata": {},
   "source": [
    "# 5. Graficos"
   ]
  },
  {
   "cell_type": "markdown",
   "metadata": {},
   "source": [
    "### 5.1 Nivel Tanque BR001A"
   ]
  },
  {
   "cell_type": "code",
   "execution_count": 18,
   "metadata": {},
   "outputs": [],
   "source": [
    "t = datos_new_1[\"SimTime\"]\n",
    "\n",
    "a = datos_new_1[\"G_0600_EXTRA_Lev_PRE\"]"
   ]
  },
  {
   "cell_type": "code",
   "execution_count": 19,
   "metadata": {},
   "outputs": [
    {
     "data": {
      "image/png": "[encoded data removed]",
      "text/plain": [
       "<Figure size 432x288 with 1 Axes>"
      ]
     },
     "metadata": {},
     "output_type": "display_data"
    }
   ],
   "source": [
    "plt.plot(t,a)\n",
    "plt.xlim(0,13)\n",
    "\n",
    "plt.xlabel(\"Tiempo (h)\")\n",
    "plt.ylabel(\"Nivel (m)\")\n",
    "plt.title(\"Nivel PRE/PSE\")\n",
    "\n",
    "plt.show()"
   ]
  },
  {
   "cell_type": "code",
   "execution_count": 20,
   "metadata": {},
   "outputs": [
    {
     "data": {
      "image/png": "[encoded data removed]",
      "text/plain": [
       "<Figure size 432x288 with 1 Axes>"
      ]
     },
     "metadata": {},
     "output_type": "display_data"
    }
   ],
   "source": [
    "plt.plot(t,a)\n",
    "plt.xlim(0,2)\n",
    "plt.ylim(10,13)\n",
    "\n",
    "plt.xlabel(\"Tiempo (h)\")\n",
    "plt.ylabel(\"Nivel (m)\")\n",
    "plt.title(\"Nivel PRE/PSE\")\n",
    "\n",
    "plt.show()"
   ]
  },
  {
   "cell_type": "code",
   "execution_count": 21,
   "metadata": {},
   "outputs": [
    {
     "data": {
      "image/png": "[encoded data removed]",
      "text/plain": [
       "<Figure size 432x288 with 1 Axes>"
      ]
     },
     "metadata": {},
     "output_type": "display_data"
    }
   ],
   "source": [
    "plt.plot(t,a)\n",
    "plt.xlim(0.84,0.9)\n",
    "plt.ylim(11.5,11.65)\n",
    "\n",
    "plt.xlabel(\"Tiempo (h)\")\n",
    "plt.ylabel(\"Nivel (m)\")\n",
    "plt.title(\"Nivel PRE/PSE\")\n",
    "\n",
    "plt.show()"
   ]
  },
  {
   "cell_type": "code",
   "execution_count": 22,
   "metadata": {},
   "outputs": [
    {
     "data": {
      "image/png": "[encoded data removed]",
      "text/plain": [
       "<Figure size 432x288 with 1 Axes>"
      ]
     },
     "metadata": {},
     "output_type": "display_data"
    }
   ],
   "source": [
    "plt.plot(t,a)\n",
    "plt.xlim(1.25,1.5)\n",
    "plt.ylim(10.5,11.5)\n",
    "\n",
    "plt.xlabel(\"Tiempo (h)\")\n",
    "plt.ylabel(\"Nivel (m)\")\n",
    "plt.title(\"Nivel PRE/PSE\")\n",
    "\n",
    "plt.show()"
   ]
  },
  {
   "cell_type": "code",
   "execution_count": 23,
   "metadata": {},
   "outputs": [
    {
     "data": {
      "image/png": "[encoded data removed]",
      "text/plain": [
       "<Figure size 432x288 with 1 Axes>"
      ]
     },
     "metadata": {},
     "output_type": "display_data"
    }
   ],
   "source": [
    "plt.plot(t,a)\n",
    "plt.xlim(5,8)\n",
    "plt.ylim(5.5,8)\n",
    "\n",
    "plt.xlabel(\"Tiempo (h)\")\n",
    "plt.ylabel(\"Nivel (m)\")\n",
    "plt.title(\"Nivel PRE/PSE\")\n",
    "\n",
    "plt.show()"
   ]
  },
  {
   "cell_type": "code",
   "execution_count": 24,
   "metadata": {},
   "outputs": [
    {
     "data": {
      "image/png": "[encoded data removed]",
      "text/plain": [
       "<Figure size 432x288 with 1 Axes>"
      ]
     },
     "metadata": {},
     "output_type": "display_data"
    }
   ],
   "source": [
    "plt.plot(t,a)\n",
    "plt.xlim(6.5,7)\n",
    "plt.ylim(5.8,6)\n",
    "\n",
    "plt.xlabel(\"Tiempo (h)\")\n",
    "plt.ylabel(\"Nivel (m)\")\n",
    "plt.title(\"Nivel PRE/PSE\")\n",
    "\n",
    "plt.show()"
   ]
  },
  {
   "cell_type": "markdown",
   "metadata": {},
   "source": [
    "## Valor temporal al cual la pileta llega al valor +6.00"
   ]
  },
  {
   "cell_type": "code",
   "execution_count": 40,
   "metadata": {},
   "outputs": [
    {
     "data": {
      "text/html": [
       "<div>\n",
       "<style scoped>\n",
       "    .dataframe tbody tr th:only-of-type {\n",
       "        vertical-align: middle;\n",
       "    }\n",
       "\n",
       "    .dataframe tbody tr th {\n",
       "        vertical-align: top;\n",
       "    }\n",
       "\n",
       "    .dataframe thead th {\n",
       "        text-align: right;\n",
       "    }\n",
       "</style>\n",
       "<table border=\"1\" class=\"dataframe\">\n",
       "  <thead>\n",
       "    <tr style=\"text-align: right;\">\n",
       "      <th></th>\n",
       "      <th>SimTime</th>\n",
       "      <th>G_0600_EXTRA_Lev_PRE</th>\n",
       "    </tr>\n",
       "  </thead>\n",
       "  <tbody>\n",
       "    <tr>\n",
       "      <th>219076</th>\n",
       "      <td>6.085417</td>\n",
       "      <td>5.99998</td>\n",
       "    </tr>\n",
       "  </tbody>\n",
       "</table>\n",
       "</div>"
      ],
      "text/plain": [
       "         SimTime  G_0600_EXTRA_Lev_PRE\n",
       "219076  6.085417               5.99998"
      ]
     },
     "execution_count": 40,
     "metadata": {},
     "output_type": "execute_result"
    }
   ],
   "source": [
    "datos_new_1[datos_new_1[\"G_0600_EXTRA_Lev_PRE\"]<6].head(1)"
   ]
  },
  {
   "cell_type": "code",
   "execution_count": null,
   "metadata": {},
   "outputs": [],
   "source": []
  }
 ],
 "metadata": {
  "kernelspec": {
   "display_name": "Python 3",
   "language": "python",
   "name": "python3"
  },
  "language_info": {
   "codemirror_mode": {
    "name": "ipython",
    "version": 3
   },
   "file_extension": ".py",
   "mimetype": "text/x-python",
   "name": "python",
   "nbconvert_exporter": "python",
   "pygments_lexer": "ipython3",
   "version": "3.6.5"
  }
 },
 "nbformat": 4,
 "nbformat_minor": 2
}
