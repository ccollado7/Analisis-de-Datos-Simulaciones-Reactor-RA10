{
 "cells": [
  {
   "cell_type": "markdown",
   "metadata": {},
   "source": [
    "# Analisis Exploratorio - Coastdown Bombas PIL- Caso 1"
   ]
  },
  {
   "cell_type": "code",
   "execution_count": 84,
   "metadata": {},
   "outputs": [],
   "source": [
    "import numpy as np\n",
    "import pandas as pd\n",
    "import matplotlib.pyplot as plt"
   ]
  },
  {
   "cell_type": "code",
   "execution_count": 85,
   "metadata": {},
   "outputs": [],
   "source": [
    "#Realiza la lectura de los datos que se encuentran en el CSV y configuro los valores de las columnas a float64\n",
    "\n",
    "datos = pd.read_csv(r\"C:\\Users\\User0044\\Practica PIL\\3. Analisis Coastdown Bomba PIL\\Coastdown Bombas PIL.csv\")"
   ]
  },
  {
   "cell_type": "code",
   "execution_count": 86,
   "metadata": {},
   "outputs": [
    {
     "data": {
      "text/plain": [
       "Tiempo           int64\n",
       "Q_DEEN         float64\n",
       "Caudal BPIL    float64\n",
       "dtype: object"
      ]
     },
     "execution_count": 86,
     "metadata": {},
     "output_type": "execute_result"
    }
   ],
   "source": [
    "datos.dtypes #Veo el tipo de objeto de las columnas"
   ]
  },
  {
   "cell_type": "code",
   "execution_count": 87,
   "metadata": {},
   "outputs": [
    {
     "name": "stdout",
     "output_type": "stream",
     "text": [
      "<class 'pandas.core.frame.DataFrame'>\n",
      "RangeIndex: 2866 entries, 0 to 2865\n",
      "Data columns (total 3 columns):\n",
      "Tiempo         2866 non-null int64\n",
      "Q_DEEN         2866 non-null float64\n",
      "Caudal BPIL    2866 non-null float64\n",
      "dtypes: float64(2), int64(1)\n",
      "memory usage: 67.2 KB\n"
     ]
    }
   ],
   "source": [
    "datos.info() #Obtengo un resumen conciso del DataFrame"
   ]
  },
  {
   "cell_type": "code",
   "execution_count": 88,
   "metadata": {},
   "outputs": [
    {
     "data": {
      "text/plain": [
       "Tiempo         0\n",
       "Q_DEEN         0\n",
       "Caudal BPIL    0\n",
       "dtype: int64"
      ]
     },
     "execution_count": 88,
     "metadata": {},
     "output_type": "execute_result"
    }
   ],
   "source": [
    "datos.isna().sum() #Veo si existen valores nulos en las columnas del DataFrame"
   ]
  },
  {
   "cell_type": "code",
   "execution_count": 89,
   "metadata": {},
   "outputs": [
    {
     "data": {
      "text/html": [
       "<div>\n",
       "<style scoped>\n",
       "    .dataframe tbody tr th:only-of-type {\n",
       "        vertical-align: middle;\n",
       "    }\n",
       "\n",
       "    .dataframe tbody tr th {\n",
       "        vertical-align: top;\n",
       "    }\n",
       "\n",
       "    .dataframe thead th {\n",
       "        text-align: right;\n",
       "    }\n",
       "</style>\n",
       "<table border=\"1\" class=\"dataframe\">\n",
       "  <thead>\n",
       "    <tr style=\"text-align: right;\">\n",
       "      <th></th>\n",
       "      <th>Tiempo</th>\n",
       "      <th>Q_DEEN</th>\n",
       "      <th>Caudal BPIL</th>\n",
       "    </tr>\n",
       "  </thead>\n",
       "  <tbody>\n",
       "    <tr>\n",
       "      <th>0</th>\n",
       "      <td>100</td>\n",
       "      <td>213.503</td>\n",
       "      <td>252.665</td>\n",
       "    </tr>\n",
       "    <tr>\n",
       "      <th>1</th>\n",
       "      <td>200</td>\n",
       "      <td>213.503</td>\n",
       "      <td>252.665</td>\n",
       "    </tr>\n",
       "    <tr>\n",
       "      <th>2</th>\n",
       "      <td>300</td>\n",
       "      <td>213.503</td>\n",
       "      <td>252.665</td>\n",
       "    </tr>\n",
       "    <tr>\n",
       "      <th>3</th>\n",
       "      <td>400</td>\n",
       "      <td>213.503</td>\n",
       "      <td>252.665</td>\n",
       "    </tr>\n",
       "    <tr>\n",
       "      <th>4</th>\n",
       "      <td>500</td>\n",
       "      <td>213.503</td>\n",
       "      <td>252.665</td>\n",
       "    </tr>\n",
       "    <tr>\n",
       "      <th>5</th>\n",
       "      <td>600</td>\n",
       "      <td>213.503</td>\n",
       "      <td>252.665</td>\n",
       "    </tr>\n",
       "    <tr>\n",
       "      <th>6</th>\n",
       "      <td>700</td>\n",
       "      <td>213.503</td>\n",
       "      <td>252.665</td>\n",
       "    </tr>\n",
       "    <tr>\n",
       "      <th>7</th>\n",
       "      <td>800</td>\n",
       "      <td>213.503</td>\n",
       "      <td>252.665</td>\n",
       "    </tr>\n",
       "    <tr>\n",
       "      <th>8</th>\n",
       "      <td>900</td>\n",
       "      <td>213.503</td>\n",
       "      <td>252.665</td>\n",
       "    </tr>\n",
       "    <tr>\n",
       "      <th>9</th>\n",
       "      <td>1000</td>\n",
       "      <td>213.503</td>\n",
       "      <td>252.665</td>\n",
       "    </tr>\n",
       "    <tr>\n",
       "      <th>10</th>\n",
       "      <td>1800</td>\n",
       "      <td>213.494</td>\n",
       "      <td>252.645</td>\n",
       "    </tr>\n",
       "    <tr>\n",
       "      <th>11</th>\n",
       "      <td>1900</td>\n",
       "      <td>213.480</td>\n",
       "      <td>252.611</td>\n",
       "    </tr>\n",
       "    <tr>\n",
       "      <th>12</th>\n",
       "      <td>2000</td>\n",
       "      <td>213.454</td>\n",
       "      <td>252.554</td>\n",
       "    </tr>\n",
       "    <tr>\n",
       "      <th>13</th>\n",
       "      <td>2100</td>\n",
       "      <td>213.416</td>\n",
       "      <td>252.469</td>\n",
       "    </tr>\n",
       "    <tr>\n",
       "      <th>14</th>\n",
       "      <td>2200</td>\n",
       "      <td>213.363</td>\n",
       "      <td>252.352</td>\n",
       "    </tr>\n",
       "    <tr>\n",
       "      <th>15</th>\n",
       "      <td>2300</td>\n",
       "      <td>213.293</td>\n",
       "      <td>252.202</td>\n",
       "    </tr>\n",
       "    <tr>\n",
       "      <th>16</th>\n",
       "      <td>2400</td>\n",
       "      <td>213.206</td>\n",
       "      <td>252.018</td>\n",
       "    </tr>\n",
       "    <tr>\n",
       "      <th>17</th>\n",
       "      <td>2500</td>\n",
       "      <td>213.103</td>\n",
       "      <td>251.802</td>\n",
       "    </tr>\n",
       "    <tr>\n",
       "      <th>18</th>\n",
       "      <td>2600</td>\n",
       "      <td>212.984</td>\n",
       "      <td>251.555</td>\n",
       "    </tr>\n",
       "    <tr>\n",
       "      <th>19</th>\n",
       "      <td>2700</td>\n",
       "      <td>212.851</td>\n",
       "      <td>251.277</td>\n",
       "    </tr>\n",
       "  </tbody>\n",
       "</table>\n",
       "</div>"
      ],
      "text/plain": [
       "    Tiempo   Q_DEEN  Caudal BPIL\n",
       "0      100  213.503      252.665\n",
       "1      200  213.503      252.665\n",
       "2      300  213.503      252.665\n",
       "3      400  213.503      252.665\n",
       "4      500  213.503      252.665\n",
       "5      600  213.503      252.665\n",
       "6      700  213.503      252.665\n",
       "7      800  213.503      252.665\n",
       "8      900  213.503      252.665\n",
       "9     1000  213.503      252.665\n",
       "10    1800  213.494      252.645\n",
       "11    1900  213.480      252.611\n",
       "12    2000  213.454      252.554\n",
       "13    2100  213.416      252.469\n",
       "14    2200  213.363      252.352\n",
       "15    2300  213.293      252.202\n",
       "16    2400  213.206      252.018\n",
       "17    2500  213.103      251.802\n",
       "18    2600  212.984      251.555\n",
       "19    2700  212.851      251.277"
      ]
     },
     "execution_count": 89,
     "metadata": {},
     "output_type": "execute_result"
    }
   ],
   "source": [
    "#Visualizo los primeros 5 conjuntos de datos del Dataset\n",
    "\n",
    "datos.head(20)"
   ]
  },
  {
   "cell_type": "markdown",
   "metadata": {},
   "source": [
    "La unidad temporal corresponde a 100 mili segundos\n",
    "\n",
    "La unidad temperatura corresponde a grados centigrados\n",
    "\n",
    "La unidad caudal corresponde a m3/h\n"
   ]
  },
  {
   "cell_type": "code",
   "execution_count": 90,
   "metadata": {},
   "outputs": [],
   "source": [
    "#Configuro como indice los valores de Tiempo de los datos a analizar\n",
    "\n",
    "datos_new = datos.set_index(\"Tiempo\")"
   ]
  },
  {
   "cell_type": "code",
   "execution_count": 91,
   "metadata": {},
   "outputs": [
    {
     "data": {
      "text/html": [
       "<div>\n",
       "<style scoped>\n",
       "    .dataframe tbody tr th:only-of-type {\n",
       "        vertical-align: middle;\n",
       "    }\n",
       "\n",
       "    .dataframe tbody tr th {\n",
       "        vertical-align: top;\n",
       "    }\n",
       "\n",
       "    .dataframe thead th {\n",
       "        text-align: right;\n",
       "    }\n",
       "</style>\n",
       "<table border=\"1\" class=\"dataframe\">\n",
       "  <thead>\n",
       "    <tr style=\"text-align: right;\">\n",
       "      <th></th>\n",
       "      <th>Q_DEEN</th>\n",
       "      <th>Caudal BPIL</th>\n",
       "    </tr>\n",
       "    <tr>\n",
       "      <th>Tiempo</th>\n",
       "      <th></th>\n",
       "      <th></th>\n",
       "    </tr>\n",
       "  </thead>\n",
       "  <tbody>\n",
       "    <tr>\n",
       "      <th>100</th>\n",
       "      <td>213.503</td>\n",
       "      <td>252.665</td>\n",
       "    </tr>\n",
       "    <tr>\n",
       "      <th>200</th>\n",
       "      <td>213.503</td>\n",
       "      <td>252.665</td>\n",
       "    </tr>\n",
       "    <tr>\n",
       "      <th>300</th>\n",
       "      <td>213.503</td>\n",
       "      <td>252.665</td>\n",
       "    </tr>\n",
       "    <tr>\n",
       "      <th>400</th>\n",
       "      <td>213.503</td>\n",
       "      <td>252.665</td>\n",
       "    </tr>\n",
       "    <tr>\n",
       "      <th>500</th>\n",
       "      <td>213.503</td>\n",
       "      <td>252.665</td>\n",
       "    </tr>\n",
       "    <tr>\n",
       "      <th>600</th>\n",
       "      <td>213.503</td>\n",
       "      <td>252.665</td>\n",
       "    </tr>\n",
       "    <tr>\n",
       "      <th>700</th>\n",
       "      <td>213.503</td>\n",
       "      <td>252.665</td>\n",
       "    </tr>\n",
       "    <tr>\n",
       "      <th>800</th>\n",
       "      <td>213.503</td>\n",
       "      <td>252.665</td>\n",
       "    </tr>\n",
       "    <tr>\n",
       "      <th>900</th>\n",
       "      <td>213.503</td>\n",
       "      <td>252.665</td>\n",
       "    </tr>\n",
       "    <tr>\n",
       "      <th>1000</th>\n",
       "      <td>213.503</td>\n",
       "      <td>252.665</td>\n",
       "    </tr>\n",
       "    <tr>\n",
       "      <th>1800</th>\n",
       "      <td>213.494</td>\n",
       "      <td>252.645</td>\n",
       "    </tr>\n",
       "    <tr>\n",
       "      <th>1900</th>\n",
       "      <td>213.480</td>\n",
       "      <td>252.611</td>\n",
       "    </tr>\n",
       "    <tr>\n",
       "      <th>2000</th>\n",
       "      <td>213.454</td>\n",
       "      <td>252.554</td>\n",
       "    </tr>\n",
       "    <tr>\n",
       "      <th>2100</th>\n",
       "      <td>213.416</td>\n",
       "      <td>252.469</td>\n",
       "    </tr>\n",
       "    <tr>\n",
       "      <th>2200</th>\n",
       "      <td>213.363</td>\n",
       "      <td>252.352</td>\n",
       "    </tr>\n",
       "    <tr>\n",
       "      <th>2300</th>\n",
       "      <td>213.293</td>\n",
       "      <td>252.202</td>\n",
       "    </tr>\n",
       "    <tr>\n",
       "      <th>2400</th>\n",
       "      <td>213.206</td>\n",
       "      <td>252.018</td>\n",
       "    </tr>\n",
       "    <tr>\n",
       "      <th>2500</th>\n",
       "      <td>213.103</td>\n",
       "      <td>251.802</td>\n",
       "    </tr>\n",
       "    <tr>\n",
       "      <th>2600</th>\n",
       "      <td>212.984</td>\n",
       "      <td>251.555</td>\n",
       "    </tr>\n",
       "    <tr>\n",
       "      <th>2700</th>\n",
       "      <td>212.851</td>\n",
       "      <td>251.277</td>\n",
       "    </tr>\n",
       "  </tbody>\n",
       "</table>\n",
       "</div>"
      ],
      "text/plain": [
       "         Q_DEEN  Caudal BPIL\n",
       "Tiempo                      \n",
       "100     213.503      252.665\n",
       "200     213.503      252.665\n",
       "300     213.503      252.665\n",
       "400     213.503      252.665\n",
       "500     213.503      252.665\n",
       "600     213.503      252.665\n",
       "700     213.503      252.665\n",
       "800     213.503      252.665\n",
       "900     213.503      252.665\n",
       "1000    213.503      252.665\n",
       "1800    213.494      252.645\n",
       "1900    213.480      252.611\n",
       "2000    213.454      252.554\n",
       "2100    213.416      252.469\n",
       "2200    213.363      252.352\n",
       "2300    213.293      252.202\n",
       "2400    213.206      252.018\n",
       "2500    213.103      251.802\n",
       "2600    212.984      251.555\n",
       "2700    212.851      251.277"
      ]
     },
     "execution_count": 91,
     "metadata": {},
     "output_type": "execute_result"
    }
   ],
   "source": [
    "#Visualizo los primeros 5 valores del Dataset\n",
    "\n",
    "datos_new.head(20)"
   ]
  },
  {
   "cell_type": "code",
   "execution_count": 92,
   "metadata": {},
   "outputs": [
    {
     "data": {
      "text/html": [
       "<div>\n",
       "<style scoped>\n",
       "    .dataframe tbody tr th:only-of-type {\n",
       "        vertical-align: middle;\n",
       "    }\n",
       "\n",
       "    .dataframe tbody tr th {\n",
       "        vertical-align: top;\n",
       "    }\n",
       "\n",
       "    .dataframe thead th {\n",
       "        text-align: right;\n",
       "    }\n",
       "</style>\n",
       "<table border=\"1\" class=\"dataframe\">\n",
       "  <thead>\n",
       "    <tr style=\"text-align: right;\">\n",
       "      <th></th>\n",
       "      <th>Q_DEEN</th>\n",
       "      <th>Caudal BPIL</th>\n",
       "    </tr>\n",
       "    <tr>\n",
       "      <th>Tiempo</th>\n",
       "      <th></th>\n",
       "      <th></th>\n",
       "    </tr>\n",
       "  </thead>\n",
       "  <tbody>\n",
       "    <tr>\n",
       "      <th>286900</th>\n",
       "      <td>-1.30084</td>\n",
       "      <td>0.0</td>\n",
       "    </tr>\n",
       "    <tr>\n",
       "      <th>287000</th>\n",
       "      <td>-1.30088</td>\n",
       "      <td>0.0</td>\n",
       "    </tr>\n",
       "    <tr>\n",
       "      <th>287100</th>\n",
       "      <td>-1.30091</td>\n",
       "      <td>0.0</td>\n",
       "    </tr>\n",
       "    <tr>\n",
       "      <th>287200</th>\n",
       "      <td>-1.30095</td>\n",
       "      <td>0.0</td>\n",
       "    </tr>\n",
       "    <tr>\n",
       "      <th>287300</th>\n",
       "      <td>-1.30099</td>\n",
       "      <td>0.0</td>\n",
       "    </tr>\n",
       "  </tbody>\n",
       "</table>\n",
       "</div>"
      ],
      "text/plain": [
       "         Q_DEEN  Caudal BPIL\n",
       "Tiempo                      \n",
       "286900 -1.30084          0.0\n",
       "287000 -1.30088          0.0\n",
       "287100 -1.30091          0.0\n",
       "287200 -1.30095          0.0\n",
       "287300 -1.30099          0.0"
      ]
     },
     "execution_count": 92,
     "metadata": {},
     "output_type": "execute_result"
    }
   ],
   "source": [
    "#Visualizo los ultimos 5 valores del Dataset\n",
    "\n",
    "datos_new.tail()"
   ]
  },
  {
   "cell_type": "code",
   "execution_count": 93,
   "metadata": {},
   "outputs": [
    {
     "data": {
      "text/html": [
       "<div>\n",
       "<style scoped>\n",
       "    .dataframe tbody tr th:only-of-type {\n",
       "        vertical-align: middle;\n",
       "    }\n",
       "\n",
       "    .dataframe tbody tr th {\n",
       "        vertical-align: top;\n",
       "    }\n",
       "\n",
       "    .dataframe thead th {\n",
       "        text-align: right;\n",
       "    }\n",
       "</style>\n",
       "<table border=\"1\" class=\"dataframe\">\n",
       "  <thead>\n",
       "    <tr style=\"text-align: right;\">\n",
       "      <th></th>\n",
       "      <th>Q_DEEN</th>\n",
       "      <th>Caudal BPIL</th>\n",
       "    </tr>\n",
       "  </thead>\n",
       "  <tbody>\n",
       "    <tr>\n",
       "      <th>count</th>\n",
       "      <td>2866.000000</td>\n",
       "      <td>2866.000000</td>\n",
       "    </tr>\n",
       "    <tr>\n",
       "      <th>mean</th>\n",
       "      <td>36.600042</td>\n",
       "      <td>44.866140</td>\n",
       "    </tr>\n",
       "    <tr>\n",
       "      <th>std</th>\n",
       "      <td>59.849609</td>\n",
       "      <td>69.461443</td>\n",
       "    </tr>\n",
       "    <tr>\n",
       "      <th>min</th>\n",
       "      <td>-1.300990</td>\n",
       "      <td>0.000000</td>\n",
       "    </tr>\n",
       "    <tr>\n",
       "      <th>25%</th>\n",
       "      <td>-1.206403</td>\n",
       "      <td>0.000000</td>\n",
       "    </tr>\n",
       "    <tr>\n",
       "      <th>50%</th>\n",
       "      <td>-0.803503</td>\n",
       "      <td>0.380605</td>\n",
       "    </tr>\n",
       "    <tr>\n",
       "      <th>75%</th>\n",
       "      <td>61.061650</td>\n",
       "      <td>75.089975</td>\n",
       "    </tr>\n",
       "    <tr>\n",
       "      <th>max</th>\n",
       "      <td>213.503000</td>\n",
       "      <td>252.665000</td>\n",
       "    </tr>\n",
       "  </tbody>\n",
       "</table>\n",
       "</div>"
      ],
      "text/plain": [
       "            Q_DEEN  Caudal BPIL\n",
       "count  2866.000000  2866.000000\n",
       "mean     36.600042    44.866140\n",
       "std      59.849609    69.461443\n",
       "min      -1.300990     0.000000\n",
       "25%      -1.206403     0.000000\n",
       "50%      -0.803503     0.380605\n",
       "75%      61.061650    75.089975\n",
       "max     213.503000   252.665000"
      ]
     },
     "execution_count": 93,
     "metadata": {},
     "output_type": "execute_result"
    }
   ],
   "source": [
    "# Visualizo los valores principales del Dataset\n",
    "\n",
    "datos_new.describe()"
   ]
  },
  {
   "cell_type": "markdown",
   "metadata": {},
   "source": [
    "## 1. Analisis de Q_DEEN"
   ]
  },
  {
   "cell_type": "code",
   "execution_count": 94,
   "metadata": {},
   "outputs": [
    {
     "data": {
      "image/png": "[encoded data removed]",
      "text/plain": [
       "<Figure size 432x288 with 1 Axes>"
      ]
     },
     "metadata": {},
     "output_type": "display_data"
    }
   ],
   "source": [
    "# Preparo los datos para realizar una primera visualizacion de los datos de Caudal BPIL\n",
    "\n",
    "x = datos_new.index #Indices\n",
    "y = datos_new['Q_DEEN'].values #Valores\n",
    "\n",
    "# Realizo una primera visualizacion de los datos para ver si existen valores \"anormales\"\n",
    "\n",
    "plt.plot(x,y)\n",
    "plt.show()"
   ]
  },
  {
   "cell_type": "markdown",
   "metadata": {},
   "source": [
    "### 1.1 Inicio del Transitorio "
   ]
  },
  {
   "cell_type": "code",
   "execution_count": 95,
   "metadata": {},
   "outputs": [
    {
     "data": {
      "image/png": "[encoded data removed]",
      "text/plain": [
       "<Figure size 432x288 with 1 Axes>"
      ]
     },
     "metadata": {},
     "output_type": "display_data"
    }
   ],
   "source": [
    "# Zoom al inicio del Transitorio\n",
    "\n",
    "plt.plot(x,y)\n",
    "plt.ylim(200,220)\n",
    "plt.xlim(0,10000)\n",
    "plt.show()"
   ]
  },
  {
   "cell_type": "markdown",
   "metadata": {},
   "source": [
    "### 1.2 Avanzado 1 "
   ]
  },
  {
   "cell_type": "code",
   "execution_count": 96,
   "metadata": {},
   "outputs": [
    {
     "data": {
      "image/png": "[encoded data removed]",
      "text/plain": [
       "<Figure size 432x288 with 1 Axes>"
      ]
     },
     "metadata": {},
     "output_type": "display_data"
    }
   ],
   "source": [
    "# Zoom Avanzado 1\n",
    "\n",
    "plt.plot(x,y)\n",
    "plt.ylim(10,30)\n",
    "plt.xlim(103000,105000)\n",
    "plt.show()"
   ]
  },
  {
   "cell_type": "markdown",
   "metadata": {},
   "source": [
    "### 1.3 Avanzado 2 "
   ]
  },
  {
   "cell_type": "code",
   "execution_count": 97,
   "metadata": {},
   "outputs": [
    {
     "data": {
      "image/png": "[encoded data removed]",
      "text/plain": [
       "<Figure size 432x288 with 1 Axes>"
      ]
     },
     "metadata": {},
     "output_type": "display_data"
    }
   ],
   "source": [
    "# Zoom Avanzado 2\n",
    "\n",
    "plt.plot(x,y)\n",
    "plt.ylim(-2,6)\n",
    "plt.xlim(115000,120000)\n",
    "plt.show()"
   ]
  },
  {
   "cell_type": "code",
   "execution_count": 98,
   "metadata": {},
   "outputs": [
    {
     "data": {
      "image/png": "[encoded data removed]",
      "text/plain": [
       "<Figure size 432x288 with 1 Axes>"
      ]
     },
     "metadata": {},
     "output_type": "display_data"
    }
   ],
   "source": [
    "# Zoom Avanzado 2\n",
    "\n",
    "plt.plot(x,y)\n",
    "plt.ylim(-1,2)\n",
    "plt.xlim(116500,118000)\n",
    "plt.show()"
   ]
  },
  {
   "cell_type": "markdown",
   "metadata": {},
   "source": [
    "## 2. Analisis de FI-1910 (Caudal BPIL)"
   ]
  },
  {
   "cell_type": "code",
   "execution_count": 99,
   "metadata": {},
   "outputs": [
    {
     "data": {
      "image/png": "[encoded data removed]",
      "text/plain": [
       "<Figure size 432x288 with 1 Axes>"
      ]
     },
     "metadata": {},
     "output_type": "display_data"
    }
   ],
   "source": [
    "# Preparo los datos para realizar una primera visualizacion de los datos de Q_DEEN\n",
    "\n",
    "x = datos_new.index #Indices\n",
    "z = datos_new['Caudal BPIL'].values #Valores\n",
    "\n",
    "# Realizo una primera visualizacion de los datos para ver si existen valores \"anormales\"\n",
    "\n",
    "plt.plot(x,z)\n",
    "plt.show()"
   ]
  },
  {
   "cell_type": "markdown",
   "metadata": {},
   "source": [
    "### 2.1 Inicio del Transitorio "
   ]
  },
  {
   "cell_type": "code",
   "execution_count": 104,
   "metadata": {},
   "outputs": [
    {
     "data": {
      "image/png": "[encoded data removed]",
      "text/plain": [
       "<Figure size 432x288 with 1 Axes>"
      ]
     },
     "metadata": {},
     "output_type": "display_data"
    }
   ],
   "source": [
    "# Zoom al inicio del Transitorio\n",
    "\n",
    "plt.plot(x,z)\n",
    "plt.ylim(220,260)\n",
    "plt.xlim(0,10000)\n",
    "plt.show()"
   ]
  },
  {
   "cell_type": "markdown",
   "metadata": {},
   "source": [
    "### 2.2 Avanzado 1 "
   ]
  },
  {
   "cell_type": "code",
   "execution_count": 108,
   "metadata": {},
   "outputs": [
    {
     "data": {
      "image/png": "[encoded data removed]",
      "text/plain": [
       "<Figure size 432x288 with 1 Axes>"
      ]
     },
     "metadata": {},
     "output_type": "display_data"
    }
   ],
   "source": [
    "# Zoom Avanzado 1\n",
    "\n",
    "plt.plot(x,z)\n",
    "plt.ylim(-2,15)\n",
    "plt.xlim(112500,150000)\n",
    "plt.show()"
   ]
  },
  {
   "cell_type": "markdown",
   "metadata": {},
   "source": [
    "# 3. Analisis Conjunto"
   ]
  },
  {
   "cell_type": "code",
   "execution_count": 111,
   "metadata": {},
   "outputs": [
    {
     "data": {
      "image/png": "[encoded data removed]",
      "text/plain": [
       "<Figure size 432x288 with 1 Axes>"
      ]
     },
     "metadata": {},
     "output_type": "display_data"
    }
   ],
   "source": [
    "# Grafico en conjunto\n",
    "\n",
    "plt.plot(x,y)\n",
    "plt.plot(x,z)\n",
    "plt.show()"
   ]
  },
  {
   "cell_type": "markdown",
   "metadata": {},
   "source": [
    "### 3.1 Inicio del Transitorio "
   ]
  },
  {
   "cell_type": "code",
   "execution_count": 114,
   "metadata": {},
   "outputs": [
    {
     "data": {
      "image/png": "[encoded data removed]",
      "text/plain": [
       "<Figure size 432x288 with 1 Axes>"
      ]
     },
     "metadata": {},
     "output_type": "display_data"
    }
   ],
   "source": [
    "plt.plot(x,y)\n",
    "plt.plot(x,z)\n",
    "plt.xlim(0,5000)\n",
    "plt.ylim(200,260)\n",
    "plt.show()"
   ]
  },
  {
   "cell_type": "markdown",
   "metadata": {},
   "source": [
    "### 3.2 Fin del Transitorio "
   ]
  },
  {
   "cell_type": "code",
   "execution_count": 118,
   "metadata": {},
   "outputs": [
    {
     "data": {
      "image/png": "[encoded data removed]",
      "text/plain": [
       "<Figure size 432x288 with 1 Axes>"
      ]
     },
     "metadata": {},
     "output_type": "display_data"
    }
   ],
   "source": [
    "plt.plot(x,y)\n",
    "plt.plot(x,z)\n",
    "plt.ylim(-2,14)\n",
    "plt.xlim(115000,140000)\n",
    "plt.show()"
   ]
  }
 ],
 "metadata": {
  "kernelspec": {
   "display_name": "Python 3",
   "language": "python",
   "name": "python3"
  },
  "language_info": {
   "codemirror_mode": {
    "name": "ipython",
    "version": 3
   },
   "file_extension": ".py",
   "mimetype": "text/x-python",
   "name": "python",
   "nbconvert_exporter": "python",
   "pygments_lexer": "ipython3",
   "version": "3.6.5"
  }
 },
 "nbformat": 4,
 "nbformat_minor": 2
}
